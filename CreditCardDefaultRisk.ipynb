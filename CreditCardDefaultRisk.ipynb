{
 "cells": [
  {
   "cell_type": "code",
   "execution_count": 1,
   "id": "3fa46bae",
   "metadata": {},
   "outputs": [],
   "source": [
    "import numpy as np\n",
    "import pandas as pd\n",
    "import seaborn as sns\n",
    "import matplotlib.pyplot as plt\n",
    "import warnings\n",
    "warnings.filterwarnings(\"ignore\")"
   ]
  },
  {
   "cell_type": "markdown",
   "id": "8b7feb44",
   "metadata": {},
   "source": [
    "# TRAIN DATA"
   ]
  },
  {
   "cell_type": "code",
   "execution_count": 2,
   "id": "05307369",
   "metadata": {},
   "outputs": [
    {
     "data": {
      "text/html": [
       "<div>\n",
       "<style scoped>\n",
       "    .dataframe tbody tr th:only-of-type {\n",
       "        vertical-align: middle;\n",
       "    }\n",
       "\n",
       "    .dataframe tbody tr th {\n",
       "        vertical-align: top;\n",
       "    }\n",
       "\n",
       "    .dataframe thead th {\n",
       "        text-align: right;\n",
       "    }\n",
       "</style>\n",
       "<table border=\"1\" class=\"dataframe\">\n",
       "  <thead>\n",
       "    <tr style=\"text-align: right;\">\n",
       "      <th></th>\n",
       "      <th>customer_id</th>\n",
       "      <th>name</th>\n",
       "      <th>age</th>\n",
       "      <th>gender</th>\n",
       "      <th>owns_car</th>\n",
       "      <th>owns_house</th>\n",
       "      <th>no_of_children</th>\n",
       "      <th>net_yearly_income</th>\n",
       "      <th>no_of_days_employed</th>\n",
       "      <th>occupation_type</th>\n",
       "      <th>total_family_members</th>\n",
       "      <th>migrant_worker</th>\n",
       "      <th>yearly_debt_payments</th>\n",
       "      <th>credit_limit</th>\n",
       "      <th>credit_limit_used(%)</th>\n",
       "      <th>credit_score</th>\n",
       "      <th>prev_defaults</th>\n",
       "      <th>default_in_last_6months</th>\n",
       "      <th>credit_card_default</th>\n",
       "    </tr>\n",
       "  </thead>\n",
       "  <tbody>\n",
       "    <tr>\n",
       "      <th>0</th>\n",
       "      <td>CST_115179</td>\n",
       "      <td>ita Bose</td>\n",
       "      <td>46</td>\n",
       "      <td>F</td>\n",
       "      <td>N</td>\n",
       "      <td>Y</td>\n",
       "      <td>0.0</td>\n",
       "      <td>107934.04</td>\n",
       "      <td>612.0</td>\n",
       "      <td>Unknown</td>\n",
       "      <td>1.0</td>\n",
       "      <td>1.0</td>\n",
       "      <td>33070.28</td>\n",
       "      <td>18690.93</td>\n",
       "      <td>73</td>\n",
       "      <td>544.0</td>\n",
       "      <td>2</td>\n",
       "      <td>1</td>\n",
       "      <td>1</td>\n",
       "    </tr>\n",
       "    <tr>\n",
       "      <th>1</th>\n",
       "      <td>CST_121920</td>\n",
       "      <td>Alper Jonathan</td>\n",
       "      <td>29</td>\n",
       "      <td>M</td>\n",
       "      <td>N</td>\n",
       "      <td>Y</td>\n",
       "      <td>0.0</td>\n",
       "      <td>109862.62</td>\n",
       "      <td>2771.0</td>\n",
       "      <td>Laborers</td>\n",
       "      <td>2.0</td>\n",
       "      <td>0.0</td>\n",
       "      <td>15329.53</td>\n",
       "      <td>37745.19</td>\n",
       "      <td>52</td>\n",
       "      <td>857.0</td>\n",
       "      <td>0</td>\n",
       "      <td>0</td>\n",
       "      <td>0</td>\n",
       "    </tr>\n",
       "    <tr>\n",
       "      <th>2</th>\n",
       "      <td>CST_109330</td>\n",
       "      <td>Umesh Desai</td>\n",
       "      <td>37</td>\n",
       "      <td>M</td>\n",
       "      <td>N</td>\n",
       "      <td>Y</td>\n",
       "      <td>0.0</td>\n",
       "      <td>230153.17</td>\n",
       "      <td>204.0</td>\n",
       "      <td>Laborers</td>\n",
       "      <td>2.0</td>\n",
       "      <td>0.0</td>\n",
       "      <td>48416.60</td>\n",
       "      <td>41598.36</td>\n",
       "      <td>43</td>\n",
       "      <td>650.0</td>\n",
       "      <td>0</td>\n",
       "      <td>0</td>\n",
       "      <td>0</td>\n",
       "    </tr>\n",
       "    <tr>\n",
       "      <th>3</th>\n",
       "      <td>CST_128288</td>\n",
       "      <td>Rie</td>\n",
       "      <td>39</td>\n",
       "      <td>F</td>\n",
       "      <td>N</td>\n",
       "      <td>Y</td>\n",
       "      <td>0.0</td>\n",
       "      <td>122325.82</td>\n",
       "      <td>11941.0</td>\n",
       "      <td>Core staff</td>\n",
       "      <td>2.0</td>\n",
       "      <td>0.0</td>\n",
       "      <td>22574.36</td>\n",
       "      <td>32627.76</td>\n",
       "      <td>20</td>\n",
       "      <td>754.0</td>\n",
       "      <td>0</td>\n",
       "      <td>0</td>\n",
       "      <td>0</td>\n",
       "    </tr>\n",
       "    <tr>\n",
       "      <th>4</th>\n",
       "      <td>CST_151355</td>\n",
       "      <td>McCool</td>\n",
       "      <td>46</td>\n",
       "      <td>M</td>\n",
       "      <td>Y</td>\n",
       "      <td>Y</td>\n",
       "      <td>0.0</td>\n",
       "      <td>387286.00</td>\n",
       "      <td>1459.0</td>\n",
       "      <td>Core staff</td>\n",
       "      <td>1.0</td>\n",
       "      <td>0.0</td>\n",
       "      <td>38282.95</td>\n",
       "      <td>52950.64</td>\n",
       "      <td>75</td>\n",
       "      <td>927.0</td>\n",
       "      <td>0</td>\n",
       "      <td>0</td>\n",
       "      <td>0</td>\n",
       "    </tr>\n",
       "  </tbody>\n",
       "</table>\n",
       "</div>"
      ],
      "text/plain": [
       "  customer_id            name  age gender owns_car owns_house  no_of_children  \\\n",
       "0  CST_115179        ita Bose   46      F        N          Y             0.0   \n",
       "1  CST_121920  Alper Jonathan   29      M        N          Y             0.0   \n",
       "2  CST_109330     Umesh Desai   37      M        N          Y             0.0   \n",
       "3  CST_128288             Rie   39      F        N          Y             0.0   \n",
       "4  CST_151355          McCool   46      M        Y          Y             0.0   \n",
       "\n",
       "   net_yearly_income  no_of_days_employed occupation_type  \\\n",
       "0          107934.04                612.0         Unknown   \n",
       "1          109862.62               2771.0        Laborers   \n",
       "2          230153.17                204.0        Laborers   \n",
       "3          122325.82              11941.0      Core staff   \n",
       "4          387286.00               1459.0      Core staff   \n",
       "\n",
       "   total_family_members  migrant_worker  yearly_debt_payments  credit_limit  \\\n",
       "0                   1.0             1.0              33070.28      18690.93   \n",
       "1                   2.0             0.0              15329.53      37745.19   \n",
       "2                   2.0             0.0              48416.60      41598.36   \n",
       "3                   2.0             0.0              22574.36      32627.76   \n",
       "4                   1.0             0.0              38282.95      52950.64   \n",
       "\n",
       "   credit_limit_used(%)  credit_score  prev_defaults  default_in_last_6months  \\\n",
       "0                    73         544.0              2                        1   \n",
       "1                    52         857.0              0                        0   \n",
       "2                    43         650.0              0                        0   \n",
       "3                    20         754.0              0                        0   \n",
       "4                    75         927.0              0                        0   \n",
       "\n",
       "   credit_card_default  \n",
       "0                    1  \n",
       "1                    0  \n",
       "2                    0  \n",
       "3                    0  \n",
       "4                    0  "
      ]
     },
     "execution_count": 2,
     "metadata": {},
     "output_type": "execute_result"
    }
   ],
   "source": [
    "train_data=pd.read_csv('train.csv')\n",
    "train_data.head()"
   ]
  },
  {
   "cell_type": "markdown",
   "id": "b14470c0",
   "metadata": {},
   "source": [
    "## Data Understanding"
   ]
  },
  {
   "cell_type": "code",
   "execution_count": 3,
   "id": "4118dded",
   "metadata": {},
   "outputs": [
    {
     "data": {
      "text/plain": [
       "(45528, 19)"
      ]
     },
     "execution_count": 3,
     "metadata": {},
     "output_type": "execute_result"
    }
   ],
   "source": [
    "train_data.shape"
   ]
  },
  {
   "cell_type": "code",
   "execution_count": 4,
   "id": "5d83febc",
   "metadata": {},
   "outputs": [
    {
     "name": "stdout",
     "output_type": "stream",
     "text": [
      "<class 'pandas.core.frame.DataFrame'>\n",
      "RangeIndex: 45528 entries, 0 to 45527\n",
      "Data columns (total 19 columns):\n",
      " #   Column                   Non-Null Count  Dtype  \n",
      "---  ------                   --------------  -----  \n",
      " 0   customer_id              45528 non-null  object \n",
      " 1   name                     45528 non-null  object \n",
      " 2   age                      45528 non-null  int64  \n",
      " 3   gender                   45528 non-null  object \n",
      " 4   owns_car                 44981 non-null  object \n",
      " 5   owns_house               45528 non-null  object \n",
      " 6   no_of_children           44754 non-null  float64\n",
      " 7   net_yearly_income        45528 non-null  float64\n",
      " 8   no_of_days_employed      45065 non-null  float64\n",
      " 9   occupation_type          45528 non-null  object \n",
      " 10  total_family_members     45445 non-null  float64\n",
      " 11  migrant_worker           45441 non-null  float64\n",
      " 12  yearly_debt_payments     45433 non-null  float64\n",
      " 13  credit_limit             45528 non-null  float64\n",
      " 14  credit_limit_used(%)     45528 non-null  int64  \n",
      " 15  credit_score             45520 non-null  float64\n",
      " 16  prev_defaults            45528 non-null  int64  \n",
      " 17  default_in_last_6months  45528 non-null  int64  \n",
      " 18  credit_card_default      45528 non-null  int64  \n",
      "dtypes: float64(8), int64(5), object(6)\n",
      "memory usage: 6.6+ MB\n"
     ]
    }
   ],
   "source": [
    "train_data.info()"
   ]
  },
  {
   "cell_type": "code",
   "execution_count": 5,
   "id": "d0985906",
   "metadata": {
    "scrolled": false
   },
   "outputs": [
    {
     "data": {
      "text/html": [
       "<div>\n",
       "<style scoped>\n",
       "    .dataframe tbody tr th:only-of-type {\n",
       "        vertical-align: middle;\n",
       "    }\n",
       "\n",
       "    .dataframe tbody tr th {\n",
       "        vertical-align: top;\n",
       "    }\n",
       "\n",
       "    .dataframe thead th {\n",
       "        text-align: right;\n",
       "    }\n",
       "</style>\n",
       "<table border=\"1\" class=\"dataframe\">\n",
       "  <thead>\n",
       "    <tr style=\"text-align: right;\">\n",
       "      <th></th>\n",
       "      <th>age</th>\n",
       "      <th>no_of_children</th>\n",
       "      <th>net_yearly_income</th>\n",
       "      <th>no_of_days_employed</th>\n",
       "      <th>total_family_members</th>\n",
       "      <th>migrant_worker</th>\n",
       "      <th>yearly_debt_payments</th>\n",
       "      <th>credit_limit</th>\n",
       "      <th>credit_limit_used(%)</th>\n",
       "      <th>credit_score</th>\n",
       "      <th>prev_defaults</th>\n",
       "      <th>default_in_last_6months</th>\n",
       "      <th>credit_card_default</th>\n",
       "    </tr>\n",
       "  </thead>\n",
       "  <tbody>\n",
       "    <tr>\n",
       "      <th>count</th>\n",
       "      <td>45528.000000</td>\n",
       "      <td>44754.000000</td>\n",
       "      <td>4.552800e+04</td>\n",
       "      <td>45065.000000</td>\n",
       "      <td>45445.000000</td>\n",
       "      <td>45441.000000</td>\n",
       "      <td>45433.000000</td>\n",
       "      <td>4.552800e+04</td>\n",
       "      <td>45528.00000</td>\n",
       "      <td>45520.000000</td>\n",
       "      <td>45528.000000</td>\n",
       "      <td>45528.000000</td>\n",
       "      <td>45528.000000</td>\n",
       "    </tr>\n",
       "    <tr>\n",
       "      <th>mean</th>\n",
       "      <td>38.993411</td>\n",
       "      <td>0.420655</td>\n",
       "      <td>2.006556e+05</td>\n",
       "      <td>67609.289293</td>\n",
       "      <td>2.158081</td>\n",
       "      <td>0.179111</td>\n",
       "      <td>31796.965311</td>\n",
       "      <td>4.354842e+04</td>\n",
       "      <td>52.23502</td>\n",
       "      <td>782.791257</td>\n",
       "      <td>0.060710</td>\n",
       "      <td>0.050540</td>\n",
       "      <td>0.081203</td>\n",
       "    </tr>\n",
       "    <tr>\n",
       "      <th>std</th>\n",
       "      <td>9.543990</td>\n",
       "      <td>0.724097</td>\n",
       "      <td>6.690740e+05</td>\n",
       "      <td>139323.524434</td>\n",
       "      <td>0.911572</td>\n",
       "      <td>0.383450</td>\n",
       "      <td>17269.727234</td>\n",
       "      <td>1.487847e+05</td>\n",
       "      <td>29.37691</td>\n",
       "      <td>100.619746</td>\n",
       "      <td>0.264629</td>\n",
       "      <td>0.219059</td>\n",
       "      <td>0.273149</td>\n",
       "    </tr>\n",
       "    <tr>\n",
       "      <th>min</th>\n",
       "      <td>23.000000</td>\n",
       "      <td>0.000000</td>\n",
       "      <td>2.717061e+04</td>\n",
       "      <td>2.000000</td>\n",
       "      <td>1.000000</td>\n",
       "      <td>0.000000</td>\n",
       "      <td>2237.470000</td>\n",
       "      <td>4.003140e+03</td>\n",
       "      <td>0.00000</td>\n",
       "      <td>500.000000</td>\n",
       "      <td>0.000000</td>\n",
       "      <td>0.000000</td>\n",
       "      <td>0.000000</td>\n",
       "    </tr>\n",
       "    <tr>\n",
       "      <th>25%</th>\n",
       "      <td>31.000000</td>\n",
       "      <td>0.000000</td>\n",
       "      <td>1.263458e+05</td>\n",
       "      <td>936.000000</td>\n",
       "      <td>2.000000</td>\n",
       "      <td>0.000000</td>\n",
       "      <td>19231.140000</td>\n",
       "      <td>2.397381e+04</td>\n",
       "      <td>27.00000</td>\n",
       "      <td>704.000000</td>\n",
       "      <td>0.000000</td>\n",
       "      <td>0.000000</td>\n",
       "      <td>0.000000</td>\n",
       "    </tr>\n",
       "    <tr>\n",
       "      <th>50%</th>\n",
       "      <td>39.000000</td>\n",
       "      <td>0.000000</td>\n",
       "      <td>1.717149e+05</td>\n",
       "      <td>2224.000000</td>\n",
       "      <td>2.000000</td>\n",
       "      <td>0.000000</td>\n",
       "      <td>29081.650000</td>\n",
       "      <td>3.568804e+04</td>\n",
       "      <td>54.00000</td>\n",
       "      <td>786.000000</td>\n",
       "      <td>0.000000</td>\n",
       "      <td>0.000000</td>\n",
       "      <td>0.000000</td>\n",
       "    </tr>\n",
       "    <tr>\n",
       "      <th>75%</th>\n",
       "      <td>47.000000</td>\n",
       "      <td>1.000000</td>\n",
       "      <td>2.406038e+05</td>\n",
       "      <td>5817.000000</td>\n",
       "      <td>3.000000</td>\n",
       "      <td>0.000000</td>\n",
       "      <td>40561.150000</td>\n",
       "      <td>5.343576e+04</td>\n",
       "      <td>78.00000</td>\n",
       "      <td>867.000000</td>\n",
       "      <td>0.000000</td>\n",
       "      <td>0.000000</td>\n",
       "      <td>0.000000</td>\n",
       "    </tr>\n",
       "    <tr>\n",
       "      <th>max</th>\n",
       "      <td>55.000000</td>\n",
       "      <td>9.000000</td>\n",
       "      <td>1.407590e+08</td>\n",
       "      <td>365252.000000</td>\n",
       "      <td>10.000000</td>\n",
       "      <td>1.000000</td>\n",
       "      <td>328112.860000</td>\n",
       "      <td>3.112997e+07</td>\n",
       "      <td>99.00000</td>\n",
       "      <td>949.000000</td>\n",
       "      <td>2.000000</td>\n",
       "      <td>1.000000</td>\n",
       "      <td>1.000000</td>\n",
       "    </tr>\n",
       "  </tbody>\n",
       "</table>\n",
       "</div>"
      ],
      "text/plain": [
       "                age  no_of_children  net_yearly_income  no_of_days_employed  \\\n",
       "count  45528.000000    44754.000000       4.552800e+04         45065.000000   \n",
       "mean      38.993411        0.420655       2.006556e+05         67609.289293   \n",
       "std        9.543990        0.724097       6.690740e+05        139323.524434   \n",
       "min       23.000000        0.000000       2.717061e+04             2.000000   \n",
       "25%       31.000000        0.000000       1.263458e+05           936.000000   \n",
       "50%       39.000000        0.000000       1.717149e+05          2224.000000   \n",
       "75%       47.000000        1.000000       2.406038e+05          5817.000000   \n",
       "max       55.000000        9.000000       1.407590e+08        365252.000000   \n",
       "\n",
       "       total_family_members  migrant_worker  yearly_debt_payments  \\\n",
       "count          45445.000000    45441.000000          45433.000000   \n",
       "mean               2.158081        0.179111          31796.965311   \n",
       "std                0.911572        0.383450          17269.727234   \n",
       "min                1.000000        0.000000           2237.470000   \n",
       "25%                2.000000        0.000000          19231.140000   \n",
       "50%                2.000000        0.000000          29081.650000   \n",
       "75%                3.000000        0.000000          40561.150000   \n",
       "max               10.000000        1.000000         328112.860000   \n",
       "\n",
       "       credit_limit  credit_limit_used(%)  credit_score  prev_defaults  \\\n",
       "count  4.552800e+04           45528.00000  45520.000000   45528.000000   \n",
       "mean   4.354842e+04              52.23502    782.791257       0.060710   \n",
       "std    1.487847e+05              29.37691    100.619746       0.264629   \n",
       "min    4.003140e+03               0.00000    500.000000       0.000000   \n",
       "25%    2.397381e+04              27.00000    704.000000       0.000000   \n",
       "50%    3.568804e+04              54.00000    786.000000       0.000000   \n",
       "75%    5.343576e+04              78.00000    867.000000       0.000000   \n",
       "max    3.112997e+07              99.00000    949.000000       2.000000   \n",
       "\n",
       "       default_in_last_6months  credit_card_default  \n",
       "count             45528.000000         45528.000000  \n",
       "mean                  0.050540             0.081203  \n",
       "std                   0.219059             0.273149  \n",
       "min                   0.000000             0.000000  \n",
       "25%                   0.000000             0.000000  \n",
       "50%                   0.000000             0.000000  \n",
       "75%                   0.000000             0.000000  \n",
       "max                   1.000000             1.000000  "
      ]
     },
     "execution_count": 5,
     "metadata": {},
     "output_type": "execute_result"
    }
   ],
   "source": [
    "train_data.describe()"
   ]
  },
  {
   "cell_type": "code",
   "execution_count": 6,
   "id": "de4ea80e",
   "metadata": {},
   "outputs": [
    {
     "data": {
      "image/png": "[encoded data removed]",
      "text/plain": [
       "<Figure size 1296x1296 with 2 Axes>"
      ]
     },
     "metadata": {
      "needs_background": "light"
     },
     "output_type": "display_data"
    }
   ],
   "source": [
    "plt.figure(figsize=(18,18))\n",
    "sns.heatmap(train_data.corr(),cmap='coolwarm',annot=True)\n",
    "plt.show()"
   ]
  },
  {
   "cell_type": "markdown",
   "id": "cad4db6f",
   "metadata": {},
   "source": [
    "## Data Preprocessing"
   ]
  },
  {
   "cell_type": "markdown",
   "id": "53c0ee06",
   "metadata": {},
   "source": [
    "### Missing Value Handling"
   ]
  },
  {
   "cell_type": "code",
   "execution_count": 7,
   "id": "e638cf3c",
   "metadata": {
    "scrolled": true
   },
   "outputs": [
    {
     "data": {
      "text/plain": [
       "customer_id                  0\n",
       "name                         0\n",
       "age                          0\n",
       "gender                       0\n",
       "owns_car                   547\n",
       "owns_house                   0\n",
       "no_of_children             774\n",
       "net_yearly_income            0\n",
       "no_of_days_employed        463\n",
       "occupation_type              0\n",
       "total_family_members        83\n",
       "migrant_worker              87\n",
       "yearly_debt_payments        95\n",
       "credit_limit                 0\n",
       "credit_limit_used(%)         0\n",
       "credit_score                 8\n",
       "prev_defaults                0\n",
       "default_in_last_6months      0\n",
       "credit_card_default          0\n",
       "dtype: int64"
      ]
     },
     "execution_count": 7,
     "metadata": {},
     "output_type": "execute_result"
    }
   ],
   "source": [
    "train_data.isna().sum()"
   ]
  },
  {
   "cell_type": "code",
   "execution_count": 8,
   "id": "714e7f51",
   "metadata": {},
   "outputs": [
    {
     "data": {
      "text/plain": [
       "customer_id                0\n",
       "name                       0\n",
       "age                        0\n",
       "gender                     0\n",
       "owns_car                   0\n",
       "owns_house                 0\n",
       "no_of_children             0\n",
       "net_yearly_income          0\n",
       "no_of_days_employed        0\n",
       "occupation_type            0\n",
       "total_family_members       0\n",
       "migrant_worker             0\n",
       "yearly_debt_payments       0\n",
       "credit_limit               0\n",
       "credit_limit_used(%)       0\n",
       "credit_score               0\n",
       "prev_defaults              0\n",
       "default_in_last_6months    0\n",
       "credit_card_default        0\n",
       "dtype: int64"
      ]
     },
     "execution_count": 8,
     "metadata": {},
     "output_type": "execute_result"
    }
   ],
   "source": [
    "#missing values replaced with mode value\n",
    "columns=['owns_car','no_of_children','no_of_days_employed','total_family_members','migrant_worker','yearly_debt_payments','credit_score']\n",
    "for x in columns:\n",
    "    train_data[x]= train_data[x].fillna(train_data[x].mode().iloc[0])\n",
    "    \n",
    "train_data.isna().sum()"
   ]
  },
  {
   "cell_type": "markdown",
   "id": "2a4b12f3",
   "metadata": {},
   "source": [
    "### Outlier Detection and Handling"
   ]
  },
  {
   "cell_type": "code",
   "execution_count": 9,
   "id": "7ba6561f",
   "metadata": {},
   "outputs": [
    {
     "name": "stdout",
     "output_type": "stream",
     "text": [
      "Index(['age', 'no_of_children', 'net_yearly_income', 'no_of_days_employed',\n",
      "       'total_family_members', 'migrant_worker', 'yearly_debt_payments',\n",
      "       'credit_limit', 'credit_limit_used(%)', 'credit_score', 'prev_defaults',\n",
      "       'default_in_last_6months', 'credit_card_default'],\n",
      "      dtype='object')\n"
     ]
    }
   ],
   "source": [
    "outliers=train_data.select_dtypes(include=['int64','float64']).columns\n",
    "print(outliers)"
   ]
  },
  {
   "cell_type": "code",
   "execution_count": 10,
   "id": "b5254122",
   "metadata": {},
   "outputs": [
    {
     "data": {
      "text/plain": [
       "<AxesSubplot:xlabel='age'>"
      ]
     },
     "execution_count": 10,
     "metadata": {},
     "output_type": "execute_result"
    },
    {
     "data": {
      "image/png": "[encoded data removed]",
      "text/plain": [
       "<Figure size 432x288 with 1 Axes>"
      ]
     },
     "metadata": {
      "needs_background": "light"
     },
     "output_type": "display_data"
    }
   ],
   "source": [
    "sns.boxplot(train_data['age'])"
   ]
  },
  {
   "cell_type": "code",
   "execution_count": 11,
   "id": "d7b26efe",
   "metadata": {},
   "outputs": [
    {
     "data": {
      "text/plain": [
       "<AxesSubplot:xlabel='no_of_children'>"
      ]
     },
     "execution_count": 11,
     "metadata": {},
     "output_type": "execute_result"
    },
    {
     "data": {
      "image/png": "[encoded data removed]",
      "text/plain": [
       "<Figure size 432x288 with 1 Axes>"
      ]
     },
     "metadata": {
      "needs_background": "light"
     },
     "output_type": "display_data"
    }
   ],
   "source": [
    "sns.boxplot(train_data['no_of_children'])"
   ]
  },
  {
   "cell_type": "code",
   "execution_count": 12,
   "id": "b16b01c7",
   "metadata": {},
   "outputs": [
    {
     "data": {
      "text/plain": [
       "<AxesSubplot:xlabel='no_of_children'>"
      ]
     },
     "execution_count": 12,
     "metadata": {},
     "output_type": "execute_result"
    },
    {
     "data": {
      "image/png": "[encoded data removed]",
      "text/plain": [
       "<Figure size 432x288 with 1 Axes>"
      ]
     },
     "metadata": {
      "needs_background": "light"
     },
     "output_type": "display_data"
    }
   ],
   "source": [
    "train_data['no_of_children'].value_counts()\n",
    "median=train_data[\"no_of_children\"].median()\n",
    "train_data[\"no_of_children\"] = np.where(train_data[\"no_of_children\"] >2, median,train_data[\"no_of_children\"])\n",
    "sns.boxplot(train_data['no_of_children'])"
   ]
  },
  {
   "cell_type": "code",
   "execution_count": 13,
   "id": "6cb81613",
   "metadata": {
    "scrolled": true
   },
   "outputs": [
    {
     "data": {
      "text/plain": [
       "<AxesSubplot:xlabel='net_yearly_income'>"
      ]
     },
     "execution_count": 13,
     "metadata": {},
     "output_type": "execute_result"
    },
    {
     "data": {
      "image/png": "[encoded data removed]",
      "text/plain": [
       "<Figure size 432x288 with 1 Axes>"
      ]
     },
     "metadata": {
      "needs_background": "light"
     },
     "output_type": "display_data"
    }
   ],
   "source": [
    "sns.boxplot(train_data['net_yearly_income'])"
   ]
  },
  {
   "cell_type": "code",
   "execution_count": 14,
   "id": "3f41decc",
   "metadata": {},
   "outputs": [
    {
     "name": "stdout",
     "output_type": "stream",
     "text": [
      "-45045.11999999998\n",
      "411993.76\n"
     ]
    },
    {
     "data": {
      "text/plain": [
       "<AxesSubplot:xlabel='net_yearly_income'>"
      ]
     },
     "execution_count": 14,
     "metadata": {},
     "output_type": "execute_result"
    },
    {
     "data": {
      "image/png": "[encoded data removed]",
      "text/plain": [
       "<Figure size 432x288 with 1 Axes>"
      ]
     },
     "metadata": {
      "needs_background": "light"
     },
     "output_type": "display_data"
    }
   ],
   "source": [
    "Q1=np.percentile(train_data['net_yearly_income'],25,interpolation=\"midpoint\")\n",
    "Q3=np.percentile(train_data['net_yearly_income'],75,interpolation=\"midpoint\")\n",
    "IQR=Q3-Q1\n",
    "low_lim=Q1-1.5*IQR\n",
    "up_lim=Q3+1.5*IQR\n",
    "print(low_lim)\n",
    "print(up_lim)\n",
    "tenth_percentile = int(np.percentile(train_data['net_yearly_income'], 10))\n",
    "nin_percentile = int(np.percentile(train_data['net_yearly_income'], 90))\n",
    "\n",
    "train_data['net_yearly_income'] = np.where(train_data['net_yearly_income']<tenth_percentile, tenth_percentile, train_data['net_yearly_income'])\n",
    "train_data['net_yearly_income'] = np.where(train_data['net_yearly_income']>nin_percentile, nin_percentile, train_data['net_yearly_income'])\n",
    "sns.boxplot(train_data['net_yearly_income'])"
   ]
  },
  {
   "cell_type": "code",
   "execution_count": 15,
   "id": "e971c05c",
   "metadata": {
    "scrolled": true
   },
   "outputs": [
    {
     "data": {
      "text/plain": [
       "<AxesSubplot:xlabel='no_of_days_employed'>"
      ]
     },
     "execution_count": 15,
     "metadata": {},
     "output_type": "execute_result"
    },
    {
     "data": {
      "image/png": "[encoded data removed]",
      "text/plain": [
       "<Figure size 432x288 with 1 Axes>"
      ]
     },
     "metadata": {
      "needs_background": "light"
     },
     "output_type": "display_data"
    }
   ],
   "source": [
    "sns.boxplot(train_data['no_of_days_employed'])"
   ]
  },
  {
   "cell_type": "code",
   "execution_count": 16,
   "id": "45b003b2",
   "metadata": {},
   "outputs": [
    {
     "name": "stdout",
     "output_type": "stream",
     "text": [
      "-6942.75\n",
      "14095.25\n"
     ]
    },
    {
     "data": {
      "text/plain": [
       "<AxesSubplot:xlabel='no_of_days_employed'>"
      ]
     },
     "execution_count": 16,
     "metadata": {},
     "output_type": "execute_result"
    },
    {
     "data": {
      "image/png": "[encoded data removed]",
      "text/plain": [
       "<Figure size 432x288 with 1 Axes>"
      ]
     },
     "metadata": {
      "needs_background": "light"
     },
     "output_type": "display_data"
    }
   ],
   "source": [
    "Q1=np.percentile(train_data['no_of_days_employed'],25,interpolation=\"midpoint\")\n",
    "Q3=np.percentile(train_data['no_of_days_employed'],75,interpolation=\"midpoint\")\n",
    "IQR=Q3-Q1\n",
    "low_lim=Q1-1.5*IQR\n",
    "up_lim=Q3+1.5*IQR\n",
    "print(low_lim)\n",
    "print(up_lim)\n",
    "\n",
    "tenth_percentile = int(np.percentile(train_data['no_of_days_employed'], 10))\n",
    "nin_percentile = int(np.percentile(train_data['no_of_days_employed'], 90))\n",
    "\n",
    "train_data['no_of_days_employed'] = np.where(train_data['no_of_days_employed']<tenth_percentile, tenth_percentile, train_data['no_of_days_employed'])\n",
    "train_data['no_of_days_employed'] = np.where(train_data['no_of_days_employed']>nin_percentile, nin_percentile, train_data['no_of_days_employed'])\n",
    "sns.boxplot(train_data['no_of_days_employed'])"
   ]
  },
  {
   "cell_type": "code",
   "execution_count": 17,
   "id": "7c8a43d4",
   "metadata": {
    "scrolled": false
   },
   "outputs": [
    {
     "data": {
      "text/plain": [
       "<AxesSubplot:xlabel='total_family_members'>"
      ]
     },
     "execution_count": 17,
     "metadata": {},
     "output_type": "execute_result"
    },
    {
     "data": {
      "image/png": "[encoded data removed]",
      "text/plain": [
       "<Figure size 432x288 with 1 Axes>"
      ]
     },
     "metadata": {
      "needs_background": "light"
     },
     "output_type": "display_data"
    }
   ],
   "source": [
    "sns.boxplot(train_data['total_family_members'])"
   ]
  },
  {
   "cell_type": "code",
   "execution_count": 18,
   "id": "cd9754eb",
   "metadata": {},
   "outputs": [
    {
     "data": {
      "text/plain": [
       "<AxesSubplot:xlabel='total_family_members'>"
      ]
     },
     "execution_count": 18,
     "metadata": {},
     "output_type": "execute_result"
    },
    {
     "data": {
      "image/png": "[encoded data removed]",
      "text/plain": [
       "<Figure size 432x288 with 1 Axes>"
      ]
     },
     "metadata": {
      "needs_background": "light"
     },
     "output_type": "display_data"
    }
   ],
   "source": [
    "median=train_data['total_family_members'].median()\n",
    "train_data[\"total_family_members\"] = np.where(train_data[\"total_family_members\"] >4, median,train_data[\"total_family_members\"])\n",
    "sns.boxplot(train_data['total_family_members'])"
   ]
  },
  {
   "cell_type": "code",
   "execution_count": 19,
   "id": "fd7a1955",
   "metadata": {
    "scrolled": true
   },
   "outputs": [
    {
     "data": {
      "text/plain": [
       "<AxesSubplot:xlabel='yearly_debt_payments'>"
      ]
     },
     "execution_count": 19,
     "metadata": {},
     "output_type": "execute_result"
    },
    {
     "data": {
      "image/png": "[encoded data removed]",
      "text/plain": [
       "<Figure size 432x288 with 1 Axes>"
      ]
     },
     "metadata": {
      "needs_background": "light"
     },
     "output_type": "display_data"
    }
   ],
   "source": [
    "sns.boxplot(train_data['yearly_debt_payments'])"
   ]
  },
  {
   "cell_type": "code",
   "execution_count": 20,
   "id": "626440b9",
   "metadata": {},
   "outputs": [
    {
     "name": "stdout",
     "output_type": "stream",
     "text": [
      "-12918.637499999986\n",
      "72608.42249999999\n"
     ]
    },
    {
     "data": {
      "text/plain": [
       "<AxesSubplot:xlabel='yearly_debt_payments'>"
      ]
     },
     "execution_count": 20,
     "metadata": {},
     "output_type": "execute_result"
    },
    {
     "data": {
      "image/png": "[encoded data removed]",
      "text/plain": [
       "<Figure size 432x288 with 1 Axes>"
      ]
     },
     "metadata": {
      "needs_background": "light"
     },
     "output_type": "display_data"
    }
   ],
   "source": [
    "Q1=np.percentile(train_data['yearly_debt_payments'],25,interpolation=\"midpoint\")\n",
    "Q3=np.percentile(train_data['yearly_debt_payments'],75,interpolation=\"midpoint\")\n",
    "IQR=Q3-Q1\n",
    "low_lim=Q1-1.5*IQR\n",
    "up_lim=Q3+1.5*IQR\n",
    "print(low_lim)\n",
    "print(up_lim)\n",
    "\n",
    "tenth_percentile = int(np.percentile(train_data['yearly_debt_payments'], 10))\n",
    "nin_percentile = int(np.percentile(train_data['yearly_debt_payments'], 90))\n",
    "\n",
    "train_data['yearly_debt_payments'] = np.where(train_data['yearly_debt_payments']<tenth_percentile, tenth_percentile, train_data['yearly_debt_payments'])\n",
    "train_data['yearly_debt_payments'] = np.where(train_data['yearly_debt_payments']>nin_percentile, nin_percentile, train_data['yearly_debt_payments'])\n",
    "sns.boxplot(train_data['yearly_debt_payments'])"
   ]
  },
  {
   "cell_type": "code",
   "execution_count": 21,
   "id": "766a392a",
   "metadata": {
    "scrolled": true
   },
   "outputs": [
    {
     "data": {
      "text/plain": [
       "<AxesSubplot:xlabel='credit_limit'>"
      ]
     },
     "execution_count": 21,
     "metadata": {},
     "output_type": "execute_result"
    },
    {
     "data": {
      "image/png": "[encoded data removed]",
      "text/plain": [
       "<Figure size 432x288 with 1 Axes>"
      ]
     },
     "metadata": {
      "needs_background": "light"
     },
     "output_type": "display_data"
    }
   ],
   "source": [
    "sns.boxplot(train_data['credit_limit'])"
   ]
  },
  {
   "cell_type": "code",
   "execution_count": 22,
   "id": "18016d8e",
   "metadata": {},
   "outputs": [
    {
     "name": "stdout",
     "output_type": "stream",
     "text": [
      "-20220.087499999994\n",
      "97629.77249999999\n"
     ]
    },
    {
     "data": {
      "text/plain": [
       "<AxesSubplot:xlabel='credit_limit'>"
      ]
     },
     "execution_count": 22,
     "metadata": {},
     "output_type": "execute_result"
    },
    {
     "data": {
      "image/png": "[encoded data removed]",
      "text/plain": [
       "<Figure size 432x288 with 1 Axes>"
      ]
     },
     "metadata": {
      "needs_background": "light"
     },
     "output_type": "display_data"
    }
   ],
   "source": [
    "Q1=np.percentile(train_data['credit_limit'],25,interpolation=\"midpoint\")\n",
    "Q3=np.percentile(train_data['credit_limit'],75,interpolation=\"midpoint\")\n",
    "IQR=Q3-Q1\n",
    "low_lim=Q1-1.5*IQR\n",
    "up_lim=Q3+1.5*IQR\n",
    "print(low_lim)\n",
    "print(up_lim)\n",
    "\n",
    "tenth_percentile = int(np.percentile(train_data['credit_limit'], 10))\n",
    "nin_percentile = int(np.percentile(train_data['credit_limit'], 90))\n",
    "\n",
    "train_data['credit_limit'] = np.where(train_data['credit_limit']<tenth_percentile, tenth_percentile, train_data['credit_limit'])\n",
    "train_data['credit_limit'] = np.where(train_data['credit_limit']>nin_percentile, nin_percentile, train_data['credit_limit'])\n",
    "sns.boxplot(train_data['credit_limit'])"
   ]
  },
  {
   "cell_type": "code",
   "execution_count": 23,
   "id": "9e2b49d9",
   "metadata": {},
   "outputs": [
    {
     "data": {
      "text/plain": [
       "<AxesSubplot:xlabel='credit_limit_used(%)'>"
      ]
     },
     "execution_count": 23,
     "metadata": {},
     "output_type": "execute_result"
    },
    {
     "data": {
      "image/png": "[encoded data removed]",
      "text/plain": [
       "<Figure size 432x288 with 1 Axes>"
      ]
     },
     "metadata": {
      "needs_background": "light"
     },
     "output_type": "display_data"
    }
   ],
   "source": [
    "sns.boxplot(train_data['credit_limit_used(%)'])"
   ]
  },
  {
   "cell_type": "code",
   "execution_count": 24,
   "id": "3e35643b",
   "metadata": {},
   "outputs": [
    {
     "data": {
      "text/plain": [
       "<AxesSubplot:xlabel='credit_score'>"
      ]
     },
     "execution_count": 24,
     "metadata": {},
     "output_type": "execute_result"
    },
    {
     "data": {
      "image/png": "[encoded data removed]",
      "text/plain": [
       "<Figure size 432x288 with 1 Axes>"
      ]
     },
     "metadata": {
      "needs_background": "light"
     },
     "output_type": "display_data"
    }
   ],
   "source": [
    "sns.boxplot(train_data['credit_score'])"
   ]
  },
  {
   "cell_type": "markdown",
   "id": "ef9b2d55",
   "metadata": {},
   "source": [
    "## Encoding"
   ]
  },
  {
   "cell_type": "code",
   "execution_count": 25,
   "id": "a0984af1",
   "metadata": {
    "scrolled": true
   },
   "outputs": [
    {
     "data": {
      "text/plain": [
       "customer_id                45528\n",
       "name                        4010\n",
       "age                           33\n",
       "gender                         3\n",
       "owns_car                       2\n",
       "owns_house                     2\n",
       "no_of_children                 3\n",
       "net_yearly_income          36400\n",
       "no_of_days_employed         7512\n",
       "occupation_type               19\n",
       "total_family_members           4\n",
       "migrant_worker                 2\n",
       "yearly_debt_payments       36258\n",
       "credit_limit               36280\n",
       "credit_limit_used(%)         100\n",
       "credit_score                 450\n",
       "prev_defaults                  3\n",
       "default_in_last_6months        2\n",
       "credit_card_default            2\n",
       "dtype: int64"
      ]
     },
     "execution_count": 25,
     "metadata": {},
     "output_type": "execute_result"
    }
   ],
   "source": [
    "from sklearn import preprocessing   \n",
    "train_data.nunique()"
   ]
  },
  {
   "cell_type": "code",
   "execution_count": 26,
   "id": "aef7ef31",
   "metadata": {},
   "outputs": [
    {
     "data": {
      "text/plain": [
       "F      29957\n",
       "M      15570\n",
       "XNA        1\n",
       "Name: gender, dtype: int64"
      ]
     },
     "execution_count": 26,
     "metadata": {},
     "output_type": "execute_result"
    }
   ],
   "source": [
    "train_data['gender'].value_counts()"
   ]
  },
  {
   "cell_type": "code",
   "execution_count": 27,
   "id": "9138be0e",
   "metadata": {},
   "outputs": [
    {
     "data": {
      "text/plain": [
       "F    29958\n",
       "M    15570\n",
       "Name: gender, dtype: int64"
      ]
     },
     "execution_count": 27,
     "metadata": {},
     "output_type": "execute_result"
    }
   ],
   "source": [
    "train_data['gender'] = np.where(train_data['gender']=='XNA', 'F', train_data['gender'])\n",
    "train_data['gender'].value_counts()"
   ]
  },
  {
   "cell_type": "code",
   "execution_count": 28,
   "id": "b2267150",
   "metadata": {
    "scrolled": false
   },
   "outputs": [
    {
     "name": "stdout",
     "output_type": "stream",
     "text": [
      "Index(['customer_id', 'name', 'gender', 'owns_car', 'owns_house',\n",
      "       'occupation_type'],\n",
      "      dtype='object')\n"
     ]
    },
    {
     "data": {
      "text/html": [
       "<div>\n",
       "<style scoped>\n",
       "    .dataframe tbody tr th:only-of-type {\n",
       "        vertical-align: middle;\n",
       "    }\n",
       "\n",
       "    .dataframe tbody tr th {\n",
       "        vertical-align: top;\n",
       "    }\n",
       "\n",
       "    .dataframe thead th {\n",
       "        text-align: right;\n",
       "    }\n",
       "</style>\n",
       "<table border=\"1\" class=\"dataframe\">\n",
       "  <thead>\n",
       "    <tr style=\"text-align: right;\">\n",
       "      <th></th>\n",
       "      <th>customer_id</th>\n",
       "      <th>name</th>\n",
       "      <th>age</th>\n",
       "      <th>gender</th>\n",
       "      <th>owns_car</th>\n",
       "      <th>owns_house</th>\n",
       "      <th>no_of_children</th>\n",
       "      <th>net_yearly_income</th>\n",
       "      <th>no_of_days_employed</th>\n",
       "      <th>occupation_type</th>\n",
       "      <th>total_family_members</th>\n",
       "      <th>migrant_worker</th>\n",
       "      <th>yearly_debt_payments</th>\n",
       "      <th>credit_limit</th>\n",
       "      <th>credit_limit_used(%)</th>\n",
       "      <th>credit_score</th>\n",
       "      <th>prev_defaults</th>\n",
       "      <th>default_in_last_6months</th>\n",
       "      <th>credit_card_default</th>\n",
       "    </tr>\n",
       "  </thead>\n",
       "  <tbody>\n",
       "    <tr>\n",
       "      <th>0</th>\n",
       "      <td>CST_115179</td>\n",
       "      <td>3939</td>\n",
       "      <td>46</td>\n",
       "      <td>F</td>\n",
       "      <td>N</td>\n",
       "      <td>Y</td>\n",
       "      <td>0.0</td>\n",
       "      <td>107934.04</td>\n",
       "      <td>612.0</td>\n",
       "      <td>17</td>\n",
       "      <td>1.0</td>\n",
       "      <td>1.0</td>\n",
       "      <td>33070.28</td>\n",
       "      <td>18690.93</td>\n",
       "      <td>73</td>\n",
       "      <td>544.0</td>\n",
       "      <td>2</td>\n",
       "      <td>1</td>\n",
       "      <td>1</td>\n",
       "    </tr>\n",
       "    <tr>\n",
       "      <th>1</th>\n",
       "      <td>CST_121920</td>\n",
       "      <td>170</td>\n",
       "      <td>29</td>\n",
       "      <td>M</td>\n",
       "      <td>N</td>\n",
       "      <td>Y</td>\n",
       "      <td>0.0</td>\n",
       "      <td>109862.62</td>\n",
       "      <td>2771.0</td>\n",
       "      <td>8</td>\n",
       "      <td>2.0</td>\n",
       "      <td>0.0</td>\n",
       "      <td>15329.53</td>\n",
       "      <td>37745.19</td>\n",
       "      <td>52</td>\n",
       "      <td>857.0</td>\n",
       "      <td>0</td>\n",
       "      <td>0</td>\n",
       "      <td>0</td>\n",
       "    </tr>\n",
       "    <tr>\n",
       "      <th>2</th>\n",
       "      <td>CST_109330</td>\n",
       "      <td>3557</td>\n",
       "      <td>37</td>\n",
       "      <td>M</td>\n",
       "      <td>N</td>\n",
       "      <td>Y</td>\n",
       "      <td>0.0</td>\n",
       "      <td>230153.17</td>\n",
       "      <td>394.0</td>\n",
       "      <td>8</td>\n",
       "      <td>2.0</td>\n",
       "      <td>0.0</td>\n",
       "      <td>48416.60</td>\n",
       "      <td>41598.36</td>\n",
       "      <td>43</td>\n",
       "      <td>650.0</td>\n",
       "      <td>0</td>\n",
       "      <td>0</td>\n",
       "      <td>0</td>\n",
       "    </tr>\n",
       "    <tr>\n",
       "      <th>3</th>\n",
       "      <td>CST_128288</td>\n",
       "      <td>2899</td>\n",
       "      <td>39</td>\n",
       "      <td>F</td>\n",
       "      <td>N</td>\n",
       "      <td>Y</td>\n",
       "      <td>0.0</td>\n",
       "      <td>122325.82</td>\n",
       "      <td>11941.0</td>\n",
       "      <td>3</td>\n",
       "      <td>2.0</td>\n",
       "      <td>0.0</td>\n",
       "      <td>22574.36</td>\n",
       "      <td>32627.76</td>\n",
       "      <td>20</td>\n",
       "      <td>754.0</td>\n",
       "      <td>0</td>\n",
       "      <td>0</td>\n",
       "      <td>0</td>\n",
       "    </tr>\n",
       "    <tr>\n",
       "      <th>4</th>\n",
       "      <td>CST_151355</td>\n",
       "      <td>2289</td>\n",
       "      <td>46</td>\n",
       "      <td>M</td>\n",
       "      <td>Y</td>\n",
       "      <td>Y</td>\n",
       "      <td>0.0</td>\n",
       "      <td>322943.00</td>\n",
       "      <td>1459.0</td>\n",
       "      <td>3</td>\n",
       "      <td>1.0</td>\n",
       "      <td>0.0</td>\n",
       "      <td>38282.95</td>\n",
       "      <td>52950.64</td>\n",
       "      <td>75</td>\n",
       "      <td>927.0</td>\n",
       "      <td>0</td>\n",
       "      <td>0</td>\n",
       "      <td>0</td>\n",
       "    </tr>\n",
       "  </tbody>\n",
       "</table>\n",
       "</div>"
      ],
      "text/plain": [
       "  customer_id  name  age gender owns_car owns_house  no_of_children  \\\n",
       "0  CST_115179  3939   46      F        N          Y             0.0   \n",
       "1  CST_121920   170   29      M        N          Y             0.0   \n",
       "2  CST_109330  3557   37      M        N          Y             0.0   \n",
       "3  CST_128288  2899   39      F        N          Y             0.0   \n",
       "4  CST_151355  2289   46      M        Y          Y             0.0   \n",
       "\n",
       "   net_yearly_income  no_of_days_employed  occupation_type  \\\n",
       "0          107934.04                612.0               17   \n",
       "1          109862.62               2771.0                8   \n",
       "2          230153.17                394.0                8   \n",
       "3          122325.82              11941.0                3   \n",
       "4          322943.00               1459.0                3   \n",
       "\n",
       "   total_family_members  migrant_worker  yearly_debt_payments  credit_limit  \\\n",
       "0                   1.0             1.0              33070.28      18690.93   \n",
       "1                   2.0             0.0              15329.53      37745.19   \n",
       "2                   2.0             0.0              48416.60      41598.36   \n",
       "3                   2.0             0.0              22574.36      32627.76   \n",
       "4                   1.0             0.0              38282.95      52950.64   \n",
       "\n",
       "   credit_limit_used(%)  credit_score  prev_defaults  default_in_last_6months  \\\n",
       "0                    73         544.0              2                        1   \n",
       "1                    52         857.0              0                        0   \n",
       "2                    43         650.0              0                        0   \n",
       "3                    20         754.0              0                        0   \n",
       "4                    75         927.0              0                        0   \n",
       "\n",
       "   credit_card_default  \n",
       "0                    1  \n",
       "1                    0  \n",
       "2                    0  \n",
       "3                    0  \n",
       "4                    0  "
      ]
     },
     "execution_count": 28,
     "metadata": {},
     "output_type": "execute_result"
    }
   ],
   "source": [
    "labencoder = preprocessing.LabelEncoder()\n",
    "to_be_columns=train_data.select_dtypes(include=['object']).columns\n",
    "print(to_be_columns)\n",
    "label_encode = ['name','occupation_type']\n",
    "for i in label_encode:\n",
    "    train_data[i]= labencoder.fit_transform(train_data[i])   \n",
    "train_data.head()"
   ]
  },
  {
   "cell_type": "markdown",
   "id": "d396ef36",
   "metadata": {},
   "source": [
    "### One Hot Encoding"
   ]
  },
  {
   "cell_type": "code",
   "execution_count": 29,
   "id": "49dc4073",
   "metadata": {},
   "outputs": [
    {
     "data": {
      "text/html": [
       "<div>\n",
       "<style scoped>\n",
       "    .dataframe tbody tr th:only-of-type {\n",
       "        vertical-align: middle;\n",
       "    }\n",
       "\n",
       "    .dataframe tbody tr th {\n",
       "        vertical-align: top;\n",
       "    }\n",
       "\n",
       "    .dataframe thead th {\n",
       "        text-align: right;\n",
       "    }\n",
       "</style>\n",
       "<table border=\"1\" class=\"dataframe\">\n",
       "  <thead>\n",
       "    <tr style=\"text-align: right;\">\n",
       "      <th></th>\n",
       "      <th>customer_id</th>\n",
       "      <th>name</th>\n",
       "      <th>age</th>\n",
       "      <th>no_of_children</th>\n",
       "      <th>net_yearly_income</th>\n",
       "      <th>no_of_days_employed</th>\n",
       "      <th>occupation_type</th>\n",
       "      <th>total_family_members</th>\n",
       "      <th>migrant_worker</th>\n",
       "      <th>yearly_debt_payments</th>\n",
       "      <th>...</th>\n",
       "      <th>credit_score</th>\n",
       "      <th>prev_defaults</th>\n",
       "      <th>default_in_last_6months</th>\n",
       "      <th>credit_card_default</th>\n",
       "      <th>owns_car_No</th>\n",
       "      <th>owns_car_Yes</th>\n",
       "      <th>owns_house_No</th>\n",
       "      <th>owns_house_Yes</th>\n",
       "      <th>gender_female</th>\n",
       "      <th>gender_male</th>\n",
       "    </tr>\n",
       "  </thead>\n",
       "  <tbody>\n",
       "    <tr>\n",
       "      <th>0</th>\n",
       "      <td>CST_115179</td>\n",
       "      <td>3939</td>\n",
       "      <td>46</td>\n",
       "      <td>0.0</td>\n",
       "      <td>107934.04</td>\n",
       "      <td>612.0</td>\n",
       "      <td>17</td>\n",
       "      <td>1.0</td>\n",
       "      <td>1.0</td>\n",
       "      <td>33070.28</td>\n",
       "      <td>...</td>\n",
       "      <td>544.0</td>\n",
       "      <td>2</td>\n",
       "      <td>1</td>\n",
       "      <td>1</td>\n",
       "      <td>1</td>\n",
       "      <td>0</td>\n",
       "      <td>0</td>\n",
       "      <td>1</td>\n",
       "      <td>1</td>\n",
       "      <td>0</td>\n",
       "    </tr>\n",
       "    <tr>\n",
       "      <th>1</th>\n",
       "      <td>CST_121920</td>\n",
       "      <td>170</td>\n",
       "      <td>29</td>\n",
       "      <td>0.0</td>\n",
       "      <td>109862.62</td>\n",
       "      <td>2771.0</td>\n",
       "      <td>8</td>\n",
       "      <td>2.0</td>\n",
       "      <td>0.0</td>\n",
       "      <td>15329.53</td>\n",
       "      <td>...</td>\n",
       "      <td>857.0</td>\n",
       "      <td>0</td>\n",
       "      <td>0</td>\n",
       "      <td>0</td>\n",
       "      <td>1</td>\n",
       "      <td>0</td>\n",
       "      <td>0</td>\n",
       "      <td>1</td>\n",
       "      <td>0</td>\n",
       "      <td>1</td>\n",
       "    </tr>\n",
       "    <tr>\n",
       "      <th>2</th>\n",
       "      <td>CST_109330</td>\n",
       "      <td>3557</td>\n",
       "      <td>37</td>\n",
       "      <td>0.0</td>\n",
       "      <td>230153.17</td>\n",
       "      <td>394.0</td>\n",
       "      <td>8</td>\n",
       "      <td>2.0</td>\n",
       "      <td>0.0</td>\n",
       "      <td>48416.60</td>\n",
       "      <td>...</td>\n",
       "      <td>650.0</td>\n",
       "      <td>0</td>\n",
       "      <td>0</td>\n",
       "      <td>0</td>\n",
       "      <td>1</td>\n",
       "      <td>0</td>\n",
       "      <td>0</td>\n",
       "      <td>1</td>\n",
       "      <td>0</td>\n",
       "      <td>1</td>\n",
       "    </tr>\n",
       "    <tr>\n",
       "      <th>3</th>\n",
       "      <td>CST_128288</td>\n",
       "      <td>2899</td>\n",
       "      <td>39</td>\n",
       "      <td>0.0</td>\n",
       "      <td>122325.82</td>\n",
       "      <td>11941.0</td>\n",
       "      <td>3</td>\n",
       "      <td>2.0</td>\n",
       "      <td>0.0</td>\n",
       "      <td>22574.36</td>\n",
       "      <td>...</td>\n",
       "      <td>754.0</td>\n",
       "      <td>0</td>\n",
       "      <td>0</td>\n",
       "      <td>0</td>\n",
       "      <td>1</td>\n",
       "      <td>0</td>\n",
       "      <td>0</td>\n",
       "      <td>1</td>\n",
       "      <td>1</td>\n",
       "      <td>0</td>\n",
       "    </tr>\n",
       "    <tr>\n",
       "      <th>4</th>\n",
       "      <td>CST_151355</td>\n",
       "      <td>2289</td>\n",
       "      <td>46</td>\n",
       "      <td>0.0</td>\n",
       "      <td>322943.00</td>\n",
       "      <td>1459.0</td>\n",
       "      <td>3</td>\n",
       "      <td>1.0</td>\n",
       "      <td>0.0</td>\n",
       "      <td>38282.95</td>\n",
       "      <td>...</td>\n",
       "      <td>927.0</td>\n",
       "      <td>0</td>\n",
       "      <td>0</td>\n",
       "      <td>0</td>\n",
       "      <td>0</td>\n",
       "      <td>1</td>\n",
       "      <td>0</td>\n",
       "      <td>1</td>\n",
       "      <td>0</td>\n",
       "      <td>1</td>\n",
       "    </tr>\n",
       "  </tbody>\n",
       "</table>\n",
       "<p>5 rows × 22 columns</p>\n",
       "</div>"
      ],
      "text/plain": [
       "  customer_id  name  age  no_of_children  net_yearly_income  \\\n",
       "0  CST_115179  3939   46             0.0          107934.04   \n",
       "1  CST_121920   170   29             0.0          109862.62   \n",
       "2  CST_109330  3557   37             0.0          230153.17   \n",
       "3  CST_128288  2899   39             0.0          122325.82   \n",
       "4  CST_151355  2289   46             0.0          322943.00   \n",
       "\n",
       "   no_of_days_employed  occupation_type  total_family_members  migrant_worker  \\\n",
       "0                612.0               17                   1.0             1.0   \n",
       "1               2771.0                8                   2.0             0.0   \n",
       "2                394.0                8                   2.0             0.0   \n",
       "3              11941.0                3                   2.0             0.0   \n",
       "4               1459.0                3                   1.0             0.0   \n",
       "\n",
       "   yearly_debt_payments  ...  credit_score  prev_defaults  \\\n",
       "0              33070.28  ...         544.0              2   \n",
       "1              15329.53  ...         857.0              0   \n",
       "2              48416.60  ...         650.0              0   \n",
       "3              22574.36  ...         754.0              0   \n",
       "4              38282.95  ...         927.0              0   \n",
       "\n",
       "   default_in_last_6months  credit_card_default  owns_car_No  owns_car_Yes  \\\n",
       "0                        1                    1            1             0   \n",
       "1                        0                    0            1             0   \n",
       "2                        0                    0            1             0   \n",
       "3                        0                    0            1             0   \n",
       "4                        0                    0            0             1   \n",
       "\n",
       "   owns_house_No  owns_house_Yes  gender_female  gender_male  \n",
       "0              0               1              1            0  \n",
       "1              0               1              0            1  \n",
       "2              0               1              0            1  \n",
       "3              0               1              1            0  \n",
       "4              0               1              0            1  \n",
       "\n",
       "[5 rows x 22 columns]"
      ]
     },
     "execution_count": 29,
     "metadata": {},
     "output_type": "execute_result"
    }
   ],
   "source": [
    "hot_encode=['gender', 'owns_car', 'owns_house']\n",
    "gender_opt= pd.get_dummies(train_data['gender'])\n",
    "gender_opt.rename(columns={'F':'gender_female','M':'gender_male'},inplace=True)\n",
    "\n",
    "owns_car= pd.get_dummies(train_data['owns_car'])\n",
    "owns_car.rename(columns={'N':'owns_car_No','Y':'owns_car_Yes'},inplace=True)\n",
    "\n",
    "own_house= pd.get_dummies(train_data['owns_house'])\n",
    "own_house.rename(columns={'N':'owns_house_No','Y':'owns_house_Yes'},inplace=True)\n",
    "\n",
    "train_data=pd.concat([train_data,owns_car,own_house,gender_opt],axis=1)\n",
    "train_data.drop(['gender','owns_car','owns_house'],axis=1,inplace=True)\n",
    "\n",
    "train_data.head()"
   ]
  },
  {
   "cell_type": "markdown",
   "id": "39793e3d",
   "metadata": {},
   "source": [
    "### Standradization"
   ]
  },
  {
   "cell_type": "code",
   "execution_count": 30,
   "id": "946db482",
   "metadata": {},
   "outputs": [
    {
     "data": {
      "text/html": [
       "<div>\n",
       "<style scoped>\n",
       "    .dataframe tbody tr th:only-of-type {\n",
       "        vertical-align: middle;\n",
       "    }\n",
       "\n",
       "    .dataframe tbody tr th {\n",
       "        vertical-align: top;\n",
       "    }\n",
       "\n",
       "    .dataframe thead th {\n",
       "        text-align: right;\n",
       "    }\n",
       "</style>\n",
       "<table border=\"1\" class=\"dataframe\">\n",
       "  <thead>\n",
       "    <tr style=\"text-align: right;\">\n",
       "      <th></th>\n",
       "      <th>name</th>\n",
       "      <th>age</th>\n",
       "      <th>no_of_children</th>\n",
       "      <th>net_yearly_income</th>\n",
       "      <th>no_of_days_employed</th>\n",
       "      <th>occupation_type</th>\n",
       "      <th>total_family_members</th>\n",
       "      <th>migrant_worker</th>\n",
       "      <th>yearly_debt_payments</th>\n",
       "      <th>credit_limit</th>\n",
       "      <th>credit_limit_used(%)</th>\n",
       "      <th>credit_score</th>\n",
       "      <th>prev_defaults</th>\n",
       "      <th>default_in_last_6months</th>\n",
       "      <th>owns_car_No</th>\n",
       "      <th>owns_car_Yes</th>\n",
       "      <th>owns_house_No</th>\n",
       "      <th>owns_house_Yes</th>\n",
       "      <th>gender_female</th>\n",
       "      <th>gender_male</th>\n",
       "    </tr>\n",
       "  </thead>\n",
       "  <tbody>\n",
       "    <tr>\n",
       "      <th>0</th>\n",
       "      <td>1.773035</td>\n",
       "      <td>0.734144</td>\n",
       "      <td>-0.578865</td>\n",
       "      <td>-1.087041</td>\n",
       "      <td>-0.493992</td>\n",
       "      <td>1.118488</td>\n",
       "      <td>-1.335210</td>\n",
       "      <td>2.143317</td>\n",
       "      <td>0.183326</td>\n",
       "      <td>-1.113999</td>\n",
       "      <td>0.706855</td>\n",
       "      <td>-2.372980</td>\n",
       "      <td>7.328405</td>\n",
       "      <td>4.334303</td>\n",
       "      <td>0.709275</td>\n",
       "      <td>-0.709275</td>\n",
       "      <td>-0.662455</td>\n",
       "      <td>0.662455</td>\n",
       "      <td>0.720921</td>\n",
       "      <td>-0.720921</td>\n",
       "    </tr>\n",
       "    <tr>\n",
       "      <th>1</th>\n",
       "      <td>-1.625000</td>\n",
       "      <td>-1.047101</td>\n",
       "      <td>-0.578865</td>\n",
       "      <td>-1.060716</td>\n",
       "      <td>-0.478765</td>\n",
       "      <td>-0.487568</td>\n",
       "      <td>-0.135568</td>\n",
       "      <td>-0.466567</td>\n",
       "      <td>-1.156514</td>\n",
       "      <td>-0.124826</td>\n",
       "      <td>-0.008000</td>\n",
       "      <td>0.737705</td>\n",
       "      <td>-0.229417</td>\n",
       "      <td>-0.230718</td>\n",
       "      <td>0.709275</td>\n",
       "      <td>-0.709275</td>\n",
       "      <td>-0.662455</td>\n",
       "      <td>0.662455</td>\n",
       "      <td>-1.387114</td>\n",
       "      <td>1.387114</td>\n",
       "    </tr>\n",
       "    <tr>\n",
       "      <th>2</th>\n",
       "      <td>1.428633</td>\n",
       "      <td>-0.208868</td>\n",
       "      <td>-0.578865</td>\n",
       "      <td>0.581275</td>\n",
       "      <td>-0.495530</td>\n",
       "      <td>-0.487568</td>\n",
       "      <td>-0.135568</td>\n",
       "      <td>-0.466567</td>\n",
       "      <td>1.342331</td>\n",
       "      <td>0.075206</td>\n",
       "      <td>-0.314367</td>\n",
       "      <td>-1.319521</td>\n",
       "      <td>-0.229417</td>\n",
       "      <td>-0.230718</td>\n",
       "      <td>0.709275</td>\n",
       "      <td>-0.709275</td>\n",
       "      <td>-0.662455</td>\n",
       "      <td>0.662455</td>\n",
       "      <td>-1.387114</td>\n",
       "      <td>1.387114</td>\n",
       "    </tr>\n",
       "    <tr>\n",
       "      <th>3</th>\n",
       "      <td>0.835397</td>\n",
       "      <td>0.000690</td>\n",
       "      <td>-0.578865</td>\n",
       "      <td>-0.890591</td>\n",
       "      <td>-0.414088</td>\n",
       "      <td>-1.379822</td>\n",
       "      <td>-0.135568</td>\n",
       "      <td>-0.466567</td>\n",
       "      <td>-0.609360</td>\n",
       "      <td>-0.390490</td>\n",
       "      <td>-1.097303</td>\n",
       "      <td>-0.285939</td>\n",
       "      <td>-0.229417</td>\n",
       "      <td>-0.230718</td>\n",
       "      <td>0.709275</td>\n",
       "      <td>-0.709275</td>\n",
       "      <td>-0.662455</td>\n",
       "      <td>0.662455</td>\n",
       "      <td>0.720921</td>\n",
       "      <td>-0.720921</td>\n",
       "    </tr>\n",
       "    <tr>\n",
       "      <th>4</th>\n",
       "      <td>0.285437</td>\n",
       "      <td>0.734144</td>\n",
       "      <td>-0.578865</td>\n",
       "      <td>1.847875</td>\n",
       "      <td>-0.488018</td>\n",
       "      <td>-1.379822</td>\n",
       "      <td>-1.335210</td>\n",
       "      <td>-0.466567</td>\n",
       "      <td>0.577004</td>\n",
       "      <td>0.664542</td>\n",
       "      <td>0.774936</td>\n",
       "      <td>1.433386</td>\n",
       "      <td>-0.229417</td>\n",
       "      <td>-0.230718</td>\n",
       "      <td>-1.409891</td>\n",
       "      <td>1.409891</td>\n",
       "      <td>-0.662455</td>\n",
       "      <td>0.662455</td>\n",
       "      <td>-1.387114</td>\n",
       "      <td>1.387114</td>\n",
       "    </tr>\n",
       "    <tr>\n",
       "      <th>...</th>\n",
       "      <td>...</td>\n",
       "      <td>...</td>\n",
       "      <td>...</td>\n",
       "      <td>...</td>\n",
       "      <td>...</td>\n",
       "      <td>...</td>\n",
       "      <td>...</td>\n",
       "      <td>...</td>\n",
       "      <td>...</td>\n",
       "      <td>...</td>\n",
       "      <td>...</td>\n",
       "      <td>...</td>\n",
       "      <td>...</td>\n",
       "      <td>...</td>\n",
       "      <td>...</td>\n",
       "      <td>...</td>\n",
       "      <td>...</td>\n",
       "      <td>...</td>\n",
       "      <td>...</td>\n",
       "      <td>...</td>\n",
       "    </tr>\n",
       "    <tr>\n",
       "      <th>45523</th>\n",
       "      <td>-0.937098</td>\n",
       "      <td>1.677156</td>\n",
       "      <td>2.575670</td>\n",
       "      <td>-1.247110</td>\n",
       "      <td>-0.495530</td>\n",
       "      <td>1.118488</td>\n",
       "      <td>2.263714</td>\n",
       "      <td>-0.466567</td>\n",
       "      <td>-1.352764</td>\n",
       "      <td>-0.544358</td>\n",
       "      <td>1.013221</td>\n",
       "      <td>1.234620</td>\n",
       "      <td>-0.229417</td>\n",
       "      <td>-0.230718</td>\n",
       "      <td>0.709275</td>\n",
       "      <td>-0.709275</td>\n",
       "      <td>1.509536</td>\n",
       "      <td>-1.509536</td>\n",
       "      <td>0.720921</td>\n",
       "      <td>-0.720921</td>\n",
       "    </tr>\n",
       "    <tr>\n",
       "      <th>45524</th>\n",
       "      <td>0.105122</td>\n",
       "      <td>-0.837543</td>\n",
       "      <td>-0.578865</td>\n",
       "      <td>1.847875</td>\n",
       "      <td>-0.491495</td>\n",
       "      <td>-1.915174</td>\n",
       "      <td>-0.135568</td>\n",
       "      <td>2.143317</td>\n",
       "      <td>0.961189</td>\n",
       "      <td>1.881258</td>\n",
       "      <td>-0.688815</td>\n",
       "      <td>-1.031311</td>\n",
       "      <td>-0.229417</td>\n",
       "      <td>-0.230718</td>\n",
       "      <td>0.709275</td>\n",
       "      <td>-0.709275</td>\n",
       "      <td>-0.662455</td>\n",
       "      <td>0.662455</td>\n",
       "      <td>0.720921</td>\n",
       "      <td>-0.720921</td>\n",
       "    </tr>\n",
       "    <tr>\n",
       "      <th>45525</th>\n",
       "      <td>-0.341158</td>\n",
       "      <td>-1.256659</td>\n",
       "      <td>-0.578865</td>\n",
       "      <td>0.989403</td>\n",
       "      <td>-0.488293</td>\n",
       "      <td>-1.379822</td>\n",
       "      <td>-0.135568</td>\n",
       "      <td>-0.466567</td>\n",
       "      <td>-0.599304</td>\n",
       "      <td>1.881258</td>\n",
       "      <td>-0.212245</td>\n",
       "      <td>-0.554273</td>\n",
       "      <td>-0.229417</td>\n",
       "      <td>-0.230718</td>\n",
       "      <td>0.709275</td>\n",
       "      <td>-0.709275</td>\n",
       "      <td>-0.662455</td>\n",
       "      <td>0.662455</td>\n",
       "      <td>0.720921</td>\n",
       "      <td>-0.720921</td>\n",
       "    </tr>\n",
       "    <tr>\n",
       "      <th>45526</th>\n",
       "      <td>1.322247</td>\n",
       "      <td>-0.732763</td>\n",
       "      <td>-0.578865</td>\n",
       "      <td>-0.412325</td>\n",
       "      <td>-0.480979</td>\n",
       "      <td>-0.487568</td>\n",
       "      <td>-0.135568</td>\n",
       "      <td>-0.466567</td>\n",
       "      <td>-0.792449</td>\n",
       "      <td>-0.758507</td>\n",
       "      <td>1.353628</td>\n",
       "      <td>0.220914</td>\n",
       "      <td>-0.229417</td>\n",
       "      <td>-0.230718</td>\n",
       "      <td>-1.409891</td>\n",
       "      <td>1.409891</td>\n",
       "      <td>1.509536</td>\n",
       "      <td>-1.509536</td>\n",
       "      <td>-1.387114</td>\n",
       "      <td>1.387114</td>\n",
       "    </tr>\n",
       "    <tr>\n",
       "      <th>45527</th>\n",
       "      <td>-0.635973</td>\n",
       "      <td>-0.104089</td>\n",
       "      <td>0.998402</td>\n",
       "      <td>1.765336</td>\n",
       "      <td>-0.489774</td>\n",
       "      <td>1.118488</td>\n",
       "      <td>1.064073</td>\n",
       "      <td>-0.466567</td>\n",
       "      <td>0.299141</td>\n",
       "      <td>-0.182680</td>\n",
       "      <td>-0.893059</td>\n",
       "      <td>-1.001496</td>\n",
       "      <td>-0.229417</td>\n",
       "      <td>-0.230718</td>\n",
       "      <td>0.709275</td>\n",
       "      <td>-0.709275</td>\n",
       "      <td>-0.662455</td>\n",
       "      <td>0.662455</td>\n",
       "      <td>-1.387114</td>\n",
       "      <td>1.387114</td>\n",
       "    </tr>\n",
       "  </tbody>\n",
       "</table>\n",
       "<p>45528 rows × 20 columns</p>\n",
       "</div>"
      ],
      "text/plain": [
       "           name       age  no_of_children  net_yearly_income  \\\n",
       "0      1.773035  0.734144       -0.578865          -1.087041   \n",
       "1     -1.625000 -1.047101       -0.578865          -1.060716   \n",
       "2      1.428633 -0.208868       -0.578865           0.581275   \n",
       "3      0.835397  0.000690       -0.578865          -0.890591   \n",
       "4      0.285437  0.734144       -0.578865           1.847875   \n",
       "...         ...       ...             ...                ...   \n",
       "45523 -0.937098  1.677156        2.575670          -1.247110   \n",
       "45524  0.105122 -0.837543       -0.578865           1.847875   \n",
       "45525 -0.341158 -1.256659       -0.578865           0.989403   \n",
       "45526  1.322247 -0.732763       -0.578865          -0.412325   \n",
       "45527 -0.635973 -0.104089        0.998402           1.765336   \n",
       "\n",
       "       no_of_days_employed  occupation_type  total_family_members  \\\n",
       "0                -0.493992         1.118488             -1.335210   \n",
       "1                -0.478765        -0.487568             -0.135568   \n",
       "2                -0.495530        -0.487568             -0.135568   \n",
       "3                -0.414088        -1.379822             -0.135568   \n",
       "4                -0.488018        -1.379822             -1.335210   \n",
       "...                    ...              ...                   ...   \n",
       "45523            -0.495530         1.118488              2.263714   \n",
       "45524            -0.491495        -1.915174             -0.135568   \n",
       "45525            -0.488293        -1.379822             -0.135568   \n",
       "45526            -0.480979        -0.487568             -0.135568   \n",
       "45527            -0.489774         1.118488              1.064073   \n",
       "\n",
       "       migrant_worker  yearly_debt_payments  credit_limit  \\\n",
       "0            2.143317              0.183326     -1.113999   \n",
       "1           -0.466567             -1.156514     -0.124826   \n",
       "2           -0.466567              1.342331      0.075206   \n",
       "3           -0.466567             -0.609360     -0.390490   \n",
       "4           -0.466567              0.577004      0.664542   \n",
       "...               ...                   ...           ...   \n",
       "45523       -0.466567             -1.352764     -0.544358   \n",
       "45524        2.143317              0.961189      1.881258   \n",
       "45525       -0.466567             -0.599304      1.881258   \n",
       "45526       -0.466567             -0.792449     -0.758507   \n",
       "45527       -0.466567              0.299141     -0.182680   \n",
       "\n",
       "       credit_limit_used(%)  credit_score  prev_defaults  \\\n",
       "0                  0.706855     -2.372980       7.328405   \n",
       "1                 -0.008000      0.737705      -0.229417   \n",
       "2                 -0.314367     -1.319521      -0.229417   \n",
       "3                 -1.097303     -0.285939      -0.229417   \n",
       "4                  0.774936      1.433386      -0.229417   \n",
       "...                     ...           ...            ...   \n",
       "45523              1.013221      1.234620      -0.229417   \n",
       "45524             -0.688815     -1.031311      -0.229417   \n",
       "45525             -0.212245     -0.554273      -0.229417   \n",
       "45526              1.353628      0.220914      -0.229417   \n",
       "45527             -0.893059     -1.001496      -0.229417   \n",
       "\n",
       "       default_in_last_6months  owns_car_No  owns_car_Yes  owns_house_No  \\\n",
       "0                     4.334303     0.709275     -0.709275      -0.662455   \n",
       "1                    -0.230718     0.709275     -0.709275      -0.662455   \n",
       "2                    -0.230718     0.709275     -0.709275      -0.662455   \n",
       "3                    -0.230718     0.709275     -0.709275      -0.662455   \n",
       "4                    -0.230718    -1.409891      1.409891      -0.662455   \n",
       "...                        ...          ...           ...            ...   \n",
       "45523                -0.230718     0.709275     -0.709275       1.509536   \n",
       "45524                -0.230718     0.709275     -0.709275      -0.662455   \n",
       "45525                -0.230718     0.709275     -0.709275      -0.662455   \n",
       "45526                -0.230718    -1.409891      1.409891       1.509536   \n",
       "45527                -0.230718     0.709275     -0.709275      -0.662455   \n",
       "\n",
       "       owns_house_Yes  gender_female  gender_male  \n",
       "0            0.662455       0.720921    -0.720921  \n",
       "1            0.662455      -1.387114     1.387114  \n",
       "2            0.662455      -1.387114     1.387114  \n",
       "3            0.662455       0.720921    -0.720921  \n",
       "4            0.662455      -1.387114     1.387114  \n",
       "...               ...            ...          ...  \n",
       "45523       -1.509536       0.720921    -0.720921  \n",
       "45524        0.662455       0.720921    -0.720921  \n",
       "45525        0.662455       0.720921    -0.720921  \n",
       "45526       -1.509536      -1.387114     1.387114  \n",
       "45527        0.662455      -1.387114     1.387114  \n",
       "\n",
       "[45528 rows x 20 columns]"
      ]
     },
     "execution_count": 30,
     "metadata": {},
     "output_type": "execute_result"
    }
   ],
   "source": [
    "X=train_data.drop(['credit_card_default','customer_id'],axis=1)\n",
    "\n",
    "scale=preprocessing.StandardScaler()\n",
    "for column in X.columns:\n",
    "    get_column = X[column]\n",
    "    reshaped_vals = get_column.values.reshape(-1, 1)\n",
    "    X[column] = scale.fit_transform(reshaped_vals)\n",
    "    \n",
    "X"
   ]
  },
  {
   "cell_type": "markdown",
   "id": "ec4ad370",
   "metadata": {},
   "source": [
    "### Normalization"
   ]
  },
  {
   "cell_type": "code",
   "execution_count": 31,
   "id": "c73261e2",
   "metadata": {
    "scrolled": false
   },
   "outputs": [
    {
     "data": {
      "text/html": [
       "<div>\n",
       "<style scoped>\n",
       "    .dataframe tbody tr th:only-of-type {\n",
       "        vertical-align: middle;\n",
       "    }\n",
       "\n",
       "    .dataframe tbody tr th {\n",
       "        vertical-align: top;\n",
       "    }\n",
       "\n",
       "    .dataframe thead th {\n",
       "        text-align: right;\n",
       "    }\n",
       "</style>\n",
       "<table border=\"1\" class=\"dataframe\">\n",
       "  <thead>\n",
       "    <tr style=\"text-align: right;\">\n",
       "      <th></th>\n",
       "      <th>name</th>\n",
       "      <th>age</th>\n",
       "      <th>no_of_children</th>\n",
       "      <th>net_yearly_income</th>\n",
       "      <th>no_of_days_employed</th>\n",
       "      <th>occupation_type</th>\n",
       "      <th>total_family_members</th>\n",
       "      <th>migrant_worker</th>\n",
       "      <th>yearly_debt_payments</th>\n",
       "      <th>credit_limit</th>\n",
       "      <th>credit_limit_used(%)</th>\n",
       "      <th>credit_score</th>\n",
       "      <th>prev_defaults</th>\n",
       "      <th>default_in_last_6months</th>\n",
       "      <th>owns_car_No</th>\n",
       "      <th>owns_car_Yes</th>\n",
       "      <th>owns_house_No</th>\n",
       "      <th>owns_house_Yes</th>\n",
       "      <th>gender_female</th>\n",
       "      <th>gender_male</th>\n",
       "    </tr>\n",
       "  </thead>\n",
       "  <tbody>\n",
       "    <tr>\n",
       "      <th>0</th>\n",
       "      <td>0.982539</td>\n",
       "      <td>0.71875</td>\n",
       "      <td>0.0</td>\n",
       "      <td>0.058477</td>\n",
       "      <td>0.000598</td>\n",
       "      <td>0.944444</td>\n",
       "      <td>0.000000</td>\n",
       "      <td>1.0</td>\n",
       "      <td>0.495210</td>\n",
       "      <td>0.032886</td>\n",
       "      <td>0.737374</td>\n",
       "      <td>0.097996</td>\n",
       "      <td>1.0</td>\n",
       "      <td>1.0</td>\n",
       "      <td>1.0</td>\n",
       "      <td>0.0</td>\n",
       "      <td>0.0</td>\n",
       "      <td>1.0</td>\n",
       "      <td>1.0</td>\n",
       "      <td>0.0</td>\n",
       "    </tr>\n",
       "    <tr>\n",
       "      <th>1</th>\n",
       "      <td>0.042405</td>\n",
       "      <td>0.18750</td>\n",
       "      <td>0.0</td>\n",
       "      <td>0.066922</td>\n",
       "      <td>0.006515</td>\n",
       "      <td>0.444444</td>\n",
       "      <td>0.333333</td>\n",
       "      <td>0.0</td>\n",
       "      <td>0.063268</td>\n",
       "      <td>0.352272</td>\n",
       "      <td>0.525253</td>\n",
       "      <td>0.795100</td>\n",
       "      <td>0.0</td>\n",
       "      <td>0.0</td>\n",
       "      <td>1.0</td>\n",
       "      <td>0.0</td>\n",
       "      <td>0.0</td>\n",
       "      <td>1.0</td>\n",
       "      <td>0.0</td>\n",
       "      <td>1.0</td>\n",
       "    </tr>\n",
       "    <tr>\n",
       "      <th>2</th>\n",
       "      <td>0.887254</td>\n",
       "      <td>0.43750</td>\n",
       "      <td>0.0</td>\n",
       "      <td>0.593674</td>\n",
       "      <td>0.000000</td>\n",
       "      <td>0.444444</td>\n",
       "      <td>0.333333</td>\n",
       "      <td>0.0</td>\n",
       "      <td>0.868855</td>\n",
       "      <td>0.416858</td>\n",
       "      <td>0.434343</td>\n",
       "      <td>0.334076</td>\n",
       "      <td>0.0</td>\n",
       "      <td>0.0</td>\n",
       "      <td>1.0</td>\n",
       "      <td>0.0</td>\n",
       "      <td>0.0</td>\n",
       "      <td>1.0</td>\n",
       "      <td>0.0</td>\n",
       "      <td>1.0</td>\n",
       "    </tr>\n",
       "    <tr>\n",
       "      <th>3</th>\n",
       "      <td>0.723123</td>\n",
       "      <td>0.50000</td>\n",
       "      <td>0.0</td>\n",
       "      <td>0.121499</td>\n",
       "      <td>0.031648</td>\n",
       "      <td>0.166667</td>\n",
       "      <td>0.333333</td>\n",
       "      <td>0.0</td>\n",
       "      <td>0.239661</td>\n",
       "      <td>0.266494</td>\n",
       "      <td>0.202020</td>\n",
       "      <td>0.565702</td>\n",
       "      <td>0.0</td>\n",
       "      <td>0.0</td>\n",
       "      <td>1.0</td>\n",
       "      <td>0.0</td>\n",
       "      <td>0.0</td>\n",
       "      <td>1.0</td>\n",
       "      <td>1.0</td>\n",
       "      <td>0.0</td>\n",
       "    </tr>\n",
       "    <tr>\n",
       "      <th>4</th>\n",
       "      <td>0.570965</td>\n",
       "      <td>0.71875</td>\n",
       "      <td>0.0</td>\n",
       "      <td>1.000000</td>\n",
       "      <td>0.002919</td>\n",
       "      <td>0.166667</td>\n",
       "      <td>0.000000</td>\n",
       "      <td>0.0</td>\n",
       "      <td>0.622126</td>\n",
       "      <td>0.607145</td>\n",
       "      <td>0.757576</td>\n",
       "      <td>0.951002</td>\n",
       "      <td>0.0</td>\n",
       "      <td>0.0</td>\n",
       "      <td>0.0</td>\n",
       "      <td>1.0</td>\n",
       "      <td>0.0</td>\n",
       "      <td>1.0</td>\n",
       "      <td>0.0</td>\n",
       "      <td>1.0</td>\n",
       "    </tr>\n",
       "    <tr>\n",
       "      <th>...</th>\n",
       "      <td>...</td>\n",
       "      <td>...</td>\n",
       "      <td>...</td>\n",
       "      <td>...</td>\n",
       "      <td>...</td>\n",
       "      <td>...</td>\n",
       "      <td>...</td>\n",
       "      <td>...</td>\n",
       "      <td>...</td>\n",
       "      <td>...</td>\n",
       "      <td>...</td>\n",
       "      <td>...</td>\n",
       "      <td>...</td>\n",
       "      <td>...</td>\n",
       "      <td>...</td>\n",
       "      <td>...</td>\n",
       "      <td>...</td>\n",
       "      <td>...</td>\n",
       "      <td>...</td>\n",
       "      <td>...</td>\n",
       "    </tr>\n",
       "    <tr>\n",
       "      <th>45523</th>\n",
       "      <td>0.232726</td>\n",
       "      <td>1.00000</td>\n",
       "      <td>1.0</td>\n",
       "      <td>0.007127</td>\n",
       "      <td>0.000000</td>\n",
       "      <td>0.944444</td>\n",
       "      <td>1.000000</td>\n",
       "      <td>0.0</td>\n",
       "      <td>0.000000</td>\n",
       "      <td>0.216813</td>\n",
       "      <td>0.828283</td>\n",
       "      <td>0.906459</td>\n",
       "      <td>0.0</td>\n",
       "      <td>0.0</td>\n",
       "      <td>1.0</td>\n",
       "      <td>0.0</td>\n",
       "      <td>1.0</td>\n",
       "      <td>0.0</td>\n",
       "      <td>1.0</td>\n",
       "      <td>0.0</td>\n",
       "    </tr>\n",
       "    <tr>\n",
       "      <th>45524</th>\n",
       "      <td>0.521078</td>\n",
       "      <td>0.25000</td>\n",
       "      <td>0.0</td>\n",
       "      <td>1.000000</td>\n",
       "      <td>0.001568</td>\n",
       "      <td>0.000000</td>\n",
       "      <td>0.333333</td>\n",
       "      <td>1.0</td>\n",
       "      <td>0.745980</td>\n",
       "      <td>1.000000</td>\n",
       "      <td>0.323232</td>\n",
       "      <td>0.398664</td>\n",
       "      <td>0.0</td>\n",
       "      <td>0.0</td>\n",
       "      <td>1.0</td>\n",
       "      <td>0.0</td>\n",
       "      <td>0.0</td>\n",
       "      <td>1.0</td>\n",
       "      <td>1.0</td>\n",
       "      <td>0.0</td>\n",
       "    </tr>\n",
       "    <tr>\n",
       "      <th>45525</th>\n",
       "      <td>0.397605</td>\n",
       "      <td>0.12500</td>\n",
       "      <td>0.0</td>\n",
       "      <td>0.724602</td>\n",
       "      <td>0.002812</td>\n",
       "      <td>0.166667</td>\n",
       "      <td>0.333333</td>\n",
       "      <td>0.0</td>\n",
       "      <td>0.242903</td>\n",
       "      <td>1.000000</td>\n",
       "      <td>0.464646</td>\n",
       "      <td>0.505568</td>\n",
       "      <td>0.0</td>\n",
       "      <td>0.0</td>\n",
       "      <td>1.0</td>\n",
       "      <td>0.0</td>\n",
       "      <td>0.0</td>\n",
       "      <td>1.0</td>\n",
       "      <td>1.0</td>\n",
       "      <td>0.0</td>\n",
       "    </tr>\n",
       "    <tr>\n",
       "      <th>45526</th>\n",
       "      <td>0.857820</td>\n",
       "      <td>0.28125</td>\n",
       "      <td>0.0</td>\n",
       "      <td>0.274926</td>\n",
       "      <td>0.005654</td>\n",
       "      <td>0.444444</td>\n",
       "      <td>0.333333</td>\n",
       "      <td>0.0</td>\n",
       "      <td>0.180636</td>\n",
       "      <td>0.147668</td>\n",
       "      <td>0.929293</td>\n",
       "      <td>0.679287</td>\n",
       "      <td>0.0</td>\n",
       "      <td>0.0</td>\n",
       "      <td>0.0</td>\n",
       "      <td>1.0</td>\n",
       "      <td>1.0</td>\n",
       "      <td>0.0</td>\n",
       "      <td>0.0</td>\n",
       "      <td>1.0</td>\n",
       "    </tr>\n",
       "    <tr>\n",
       "      <th>45527</th>\n",
       "      <td>0.316039</td>\n",
       "      <td>0.46875</td>\n",
       "      <td>0.5</td>\n",
       "      <td>0.973521</td>\n",
       "      <td>0.002237</td>\n",
       "      <td>0.944444</td>\n",
       "      <td>0.666667</td>\n",
       "      <td>0.0</td>\n",
       "      <td>0.532547</td>\n",
       "      <td>0.333592</td>\n",
       "      <td>0.262626</td>\n",
       "      <td>0.405345</td>\n",
       "      <td>0.0</td>\n",
       "      <td>0.0</td>\n",
       "      <td>1.0</td>\n",
       "      <td>0.0</td>\n",
       "      <td>0.0</td>\n",
       "      <td>1.0</td>\n",
       "      <td>0.0</td>\n",
       "      <td>1.0</td>\n",
       "    </tr>\n",
       "  </tbody>\n",
       "</table>\n",
       "<p>45528 rows × 20 columns</p>\n",
       "</div>"
      ],
      "text/plain": [
       "           name      age  no_of_children  net_yearly_income  \\\n",
       "0      0.982539  0.71875             0.0           0.058477   \n",
       "1      0.042405  0.18750             0.0           0.066922   \n",
       "2      0.887254  0.43750             0.0           0.593674   \n",
       "3      0.723123  0.50000             0.0           0.121499   \n",
       "4      0.570965  0.71875             0.0           1.000000   \n",
       "...         ...      ...             ...                ...   \n",
       "45523  0.232726  1.00000             1.0           0.007127   \n",
       "45524  0.521078  0.25000             0.0           1.000000   \n",
       "45525  0.397605  0.12500             0.0           0.724602   \n",
       "45526  0.857820  0.28125             0.0           0.274926   \n",
       "45527  0.316039  0.46875             0.5           0.973521   \n",
       "\n",
       "       no_of_days_employed  occupation_type  total_family_members  \\\n",
       "0                 0.000598         0.944444              0.000000   \n",
       "1                 0.006515         0.444444              0.333333   \n",
       "2                 0.000000         0.444444              0.333333   \n",
       "3                 0.031648         0.166667              0.333333   \n",
       "4                 0.002919         0.166667              0.000000   \n",
       "...                    ...              ...                   ...   \n",
       "45523             0.000000         0.944444              1.000000   \n",
       "45524             0.001568         0.000000              0.333333   \n",
       "45525             0.002812         0.166667              0.333333   \n",
       "45526             0.005654         0.444444              0.333333   \n",
       "45527             0.002237         0.944444              0.666667   \n",
       "\n",
       "       migrant_worker  yearly_debt_payments  credit_limit  \\\n",
       "0                 1.0              0.495210      0.032886   \n",
       "1                 0.0              0.063268      0.352272   \n",
       "2                 0.0              0.868855      0.416858   \n",
       "3                 0.0              0.239661      0.266494   \n",
       "4                 0.0              0.622126      0.607145   \n",
       "...               ...                   ...           ...   \n",
       "45523             0.0              0.000000      0.216813   \n",
       "45524             1.0              0.745980      1.000000   \n",
       "45525             0.0              0.242903      1.000000   \n",
       "45526             0.0              0.180636      0.147668   \n",
       "45527             0.0              0.532547      0.333592   \n",
       "\n",
       "       credit_limit_used(%)  credit_score  prev_defaults  \\\n",
       "0                  0.737374      0.097996            1.0   \n",
       "1                  0.525253      0.795100            0.0   \n",
       "2                  0.434343      0.334076            0.0   \n",
       "3                  0.202020      0.565702            0.0   \n",
       "4                  0.757576      0.951002            0.0   \n",
       "...                     ...           ...            ...   \n",
       "45523              0.828283      0.906459            0.0   \n",
       "45524              0.323232      0.398664            0.0   \n",
       "45525              0.464646      0.505568            0.0   \n",
       "45526              0.929293      0.679287            0.0   \n",
       "45527              0.262626      0.405345            0.0   \n",
       "\n",
       "       default_in_last_6months  owns_car_No  owns_car_Yes  owns_house_No  \\\n",
       "0                          1.0          1.0           0.0            0.0   \n",
       "1                          0.0          1.0           0.0            0.0   \n",
       "2                          0.0          1.0           0.0            0.0   \n",
       "3                          0.0          1.0           0.0            0.0   \n",
       "4                          0.0          0.0           1.0            0.0   \n",
       "...                        ...          ...           ...            ...   \n",
       "45523                      0.0          1.0           0.0            1.0   \n",
       "45524                      0.0          1.0           0.0            0.0   \n",
       "45525                      0.0          1.0           0.0            0.0   \n",
       "45526                      0.0          0.0           1.0            1.0   \n",
       "45527                      0.0          1.0           0.0            0.0   \n",
       "\n",
       "       owns_house_Yes  gender_female  gender_male  \n",
       "0                 1.0            1.0          0.0  \n",
       "1                 1.0            0.0          1.0  \n",
       "2                 1.0            0.0          1.0  \n",
       "3                 1.0            1.0          0.0  \n",
       "4                 1.0            0.0          1.0  \n",
       "...               ...            ...          ...  \n",
       "45523             0.0            1.0          0.0  \n",
       "45524             1.0            1.0          0.0  \n",
       "45525             1.0            1.0          0.0  \n",
       "45526             0.0            0.0          1.0  \n",
       "45527             1.0            0.0          1.0  \n",
       "\n",
       "[45528 rows x 20 columns]"
      ]
     },
     "execution_count": 31,
     "metadata": {},
     "output_type": "execute_result"
    }
   ],
   "source": [
    "minmaxscale=preprocessing.MinMaxScaler()\n",
    "for column in X.columns:\n",
    "    get_column = X[column]\n",
    "    reshaped_vals = get_column.values.reshape(-1, 1)\n",
    "    X[column] = minmaxscale.fit_transform(reshaped_vals)\n",
    "    \n",
    "X"
   ]
  },
  {
   "cell_type": "markdown",
   "id": "a34744d6",
   "metadata": {},
   "source": [
    "## Modeling"
   ]
  },
  {
   "cell_type": "code",
   "execution_count": 32,
   "id": "a92f312a",
   "metadata": {},
   "outputs": [],
   "source": [
    "y=train_data['credit_card_default']\n",
    "X=X"
   ]
  },
  {
   "cell_type": "code",
   "execution_count": 33,
   "id": "ee7d7734",
   "metadata": {},
   "outputs": [
    {
     "name": "stdout",
     "output_type": "stream",
     "text": [
      "(31869, 20) (13659, 20) (31869,) (13659,)\n"
     ]
    }
   ],
   "source": [
    "from sklearn.model_selection import train_test_split\n",
    "#Split the Data into Training and Testing sets with test size as 30%\n",
    "X_train, X_test, y_train, y_test = train_test_split(X,y,test_size=0.3,random_state=42)\n",
    "print(X_train.shape,X_test.shape,y_train.shape,y_test.shape)"
   ]
  },
  {
   "cell_type": "markdown",
   "id": "832753ad",
   "metadata": {},
   "source": [
    "### Decision Tree classifier"
   ]
  },
  {
   "cell_type": "code",
   "execution_count": 34,
   "id": "0fae430e",
   "metadata": {},
   "outputs": [
    {
     "name": "stdout",
     "output_type": "stream",
     "text": [
      "ACCURACY of the model:  0.9713741855187056\n",
      "F - score of the model:  0.9075867757460625\n"
     ]
    }
   ],
   "source": [
    "from sklearn.tree import DecisionTreeClassifier\n",
    "from sklearn.metrics import accuracy_score,f1_score\n",
    "\n",
    "dt_model=DecisionTreeClassifier(random_state=0)\n",
    "dt_model.fit(X_train,y_train)\n",
    "y_pred=dt_model.predict(X_test)\n",
    "print(\"ACCURACY of the model: \", accuracy_score(y_test, y_pred))\n",
    "print(\"F - score of the model: \", f1_score(y_test, y_pred,average='macro'))\n"
   ]
  },
  {
   "cell_type": "markdown",
   "id": "c07ed758",
   "metadata": {},
   "source": [
    "### Random Forest Classifier"
   ]
  },
  {
   "cell_type": "code",
   "execution_count": 35,
   "id": "9d816fc2",
   "metadata": {},
   "outputs": [
    {
     "name": "stdout",
     "output_type": "stream",
     "text": [
      "ACCURACY of the model:  0.9803792371330259\n",
      "F - score of the model:  0.9287557429619328\n"
     ]
    }
   ],
   "source": [
    "from sklearn.ensemble import RandomForestClassifier\n",
    "clf = RandomForestClassifier(n_estimators = 100,random_state=0,criterion='entropy') \n",
    "clf.fit(X_train, y_train)\n",
    " \n",
    "# performing predictions on the dataset\n",
    "y_pred = clf.predict(X_test)\n",
    "print(\"ACCURACY of the model: \", accuracy_score(y_test, y_pred))\n",
    "print(\"F - score of the model: \", f1_score(y_test, y_pred,average='macro'))"
   ]
  },
  {
   "cell_type": "markdown",
   "id": "748480e3",
   "metadata": {},
   "source": [
    "### Logistic Regression"
   ]
  },
  {
   "cell_type": "code",
   "execution_count": 36,
   "id": "4431a0c4",
   "metadata": {},
   "outputs": [
    {
     "name": "stdout",
     "output_type": "stream",
     "text": [
      "ACCURACY of the model:  0.9808185079434805\n",
      "F - score of the model:  0.9305393333623184\n"
     ]
    }
   ],
   "source": [
    "from sklearn.linear_model import LogisticRegression\n",
    "logic_model=LogisticRegression()\n",
    "logic_model.fit(X_train,y_train)\n",
    "y_pred=logic_model.predict(X_test)\n",
    "\n",
    "# performing predictions on the dataset\n",
    "y_pred = logic_model.predict(X_test)\n",
    "print(\"ACCURACY of the model: \", accuracy_score(y_test, y_pred))\n",
    "print(\"F - score of the model: \", f1_score(y_test, y_pred,average='macro'))"
   ]
  },
  {
   "cell_type": "markdown",
   "id": "9837482f",
   "metadata": {},
   "source": [
    "# TEST DATA"
   ]
  },
  {
   "cell_type": "code",
   "execution_count": 37,
   "id": "afaab3ab",
   "metadata": {},
   "outputs": [
    {
     "data": {
      "text/html": [
       "<div>\n",
       "<style scoped>\n",
       "    .dataframe tbody tr th:only-of-type {\n",
       "        vertical-align: middle;\n",
       "    }\n",
       "\n",
       "    .dataframe tbody tr th {\n",
       "        vertical-align: top;\n",
       "    }\n",
       "\n",
       "    .dataframe thead th {\n",
       "        text-align: right;\n",
       "    }\n",
       "</style>\n",
       "<table border=\"1\" class=\"dataframe\">\n",
       "  <thead>\n",
       "    <tr style=\"text-align: right;\">\n",
       "      <th></th>\n",
       "      <th>customer_id</th>\n",
       "      <th>name</th>\n",
       "      <th>age</th>\n",
       "      <th>gender</th>\n",
       "      <th>owns_car</th>\n",
       "      <th>owns_house</th>\n",
       "      <th>no_of_children</th>\n",
       "      <th>net_yearly_income</th>\n",
       "      <th>no_of_days_employed</th>\n",
       "      <th>occupation_type</th>\n",
       "      <th>total_family_members</th>\n",
       "      <th>migrant_worker</th>\n",
       "      <th>yearly_debt_payments</th>\n",
       "      <th>credit_limit</th>\n",
       "      <th>credit_limit_used(%)</th>\n",
       "      <th>credit_score</th>\n",
       "      <th>prev_defaults</th>\n",
       "      <th>default_in_last_6months</th>\n",
       "    </tr>\n",
       "  </thead>\n",
       "  <tbody>\n",
       "    <tr>\n",
       "      <th>0</th>\n",
       "      <td>CST_142525</td>\n",
       "      <td>Siva</td>\n",
       "      <td>52</td>\n",
       "      <td>F</td>\n",
       "      <td>Y</td>\n",
       "      <td>N</td>\n",
       "      <td>0.0</td>\n",
       "      <td>232640.53</td>\n",
       "      <td>998.0</td>\n",
       "      <td>Unknown</td>\n",
       "      <td>2.0</td>\n",
       "      <td>0.0</td>\n",
       "      <td>14406.73</td>\n",
       "      <td>26524.40</td>\n",
       "      <td>4</td>\n",
       "      <td>779.0</td>\n",
       "      <td>0</td>\n",
       "      <td>0</td>\n",
       "    </tr>\n",
       "    <tr>\n",
       "      <th>1</th>\n",
       "      <td>CST_129215</td>\n",
       "      <td>Scott</td>\n",
       "      <td>48</td>\n",
       "      <td>F</td>\n",
       "      <td>N</td>\n",
       "      <td>N</td>\n",
       "      <td>1.0</td>\n",
       "      <td>284396.79</td>\n",
       "      <td>1338.0</td>\n",
       "      <td>Unknown</td>\n",
       "      <td>3.0</td>\n",
       "      <td>0.0</td>\n",
       "      <td>57479.99</td>\n",
       "      <td>68998.72</td>\n",
       "      <td>70</td>\n",
       "      <td>806.0</td>\n",
       "      <td>0</td>\n",
       "      <td>0</td>\n",
       "    </tr>\n",
       "    <tr>\n",
       "      <th>2</th>\n",
       "      <td>CST_138443</td>\n",
       "      <td>Victoria</td>\n",
       "      <td>50</td>\n",
       "      <td>F</td>\n",
       "      <td>N</td>\n",
       "      <td>N</td>\n",
       "      <td>1.0</td>\n",
       "      <td>149419.28</td>\n",
       "      <td>1210.0</td>\n",
       "      <td>Unknown</td>\n",
       "      <td>3.0</td>\n",
       "      <td>0.0</td>\n",
       "      <td>21611.01</td>\n",
       "      <td>25187.80</td>\n",
       "      <td>71</td>\n",
       "      <td>528.0</td>\n",
       "      <td>2</td>\n",
       "      <td>0</td>\n",
       "    </tr>\n",
       "    <tr>\n",
       "      <th>3</th>\n",
       "      <td>CST_123812</td>\n",
       "      <td>John McCrank</td>\n",
       "      <td>30</td>\n",
       "      <td>F</td>\n",
       "      <td>N</td>\n",
       "      <td>N</td>\n",
       "      <td>1.0</td>\n",
       "      <td>160437.54</td>\n",
       "      <td>503.0</td>\n",
       "      <td>Laborers</td>\n",
       "      <td>2.0</td>\n",
       "      <td>1.0</td>\n",
       "      <td>28990.76</td>\n",
       "      <td>29179.39</td>\n",
       "      <td>9</td>\n",
       "      <td>815.0</td>\n",
       "      <td>0</td>\n",
       "      <td>0</td>\n",
       "    </tr>\n",
       "    <tr>\n",
       "      <th>4</th>\n",
       "      <td>CST_144450</td>\n",
       "      <td>Martinne</td>\n",
       "      <td>52</td>\n",
       "      <td>M</td>\n",
       "      <td>N</td>\n",
       "      <td>Y</td>\n",
       "      <td>0.0</td>\n",
       "      <td>233480.37</td>\n",
       "      <td>157.0</td>\n",
       "      <td>Laborers</td>\n",
       "      <td>2.0</td>\n",
       "      <td>1.0</td>\n",
       "      <td>54213.72</td>\n",
       "      <td>82331.82</td>\n",
       "      <td>82</td>\n",
       "      <td>613.0</td>\n",
       "      <td>1</td>\n",
       "      <td>1</td>\n",
       "    </tr>\n",
       "  </tbody>\n",
       "</table>\n",
       "</div>"
      ],
      "text/plain": [
       "  customer_id          name  age gender owns_car owns_house  no_of_children  \\\n",
       "0  CST_142525          Siva   52      F        Y          N             0.0   \n",
       "1  CST_129215         Scott   48      F        N          N             1.0   \n",
       "2  CST_138443      Victoria   50      F        N          N             1.0   \n",
       "3  CST_123812  John McCrank   30      F        N          N             1.0   \n",
       "4  CST_144450      Martinne   52      M        N          Y             0.0   \n",
       "\n",
       "   net_yearly_income  no_of_days_employed occupation_type  \\\n",
       "0          232640.53                998.0         Unknown   \n",
       "1          284396.79               1338.0         Unknown   \n",
       "2          149419.28               1210.0         Unknown   \n",
       "3          160437.54                503.0        Laborers   \n",
       "4          233480.37                157.0        Laborers   \n",
       "\n",
       "   total_family_members  migrant_worker  yearly_debt_payments  credit_limit  \\\n",
       "0                   2.0             0.0              14406.73      26524.40   \n",
       "1                   3.0             0.0              57479.99      68998.72   \n",
       "2                   3.0             0.0              21611.01      25187.80   \n",
       "3                   2.0             1.0              28990.76      29179.39   \n",
       "4                   2.0             1.0              54213.72      82331.82   \n",
       "\n",
       "   credit_limit_used(%)  credit_score  prev_defaults  default_in_last_6months  \n",
       "0                     4         779.0              0                        0  \n",
       "1                    70         806.0              0                        0  \n",
       "2                    71         528.0              2                        0  \n",
       "3                     9         815.0              0                        0  \n",
       "4                    82         613.0              1                        1  "
      ]
     },
     "execution_count": 37,
     "metadata": {},
     "output_type": "execute_result"
    }
   ],
   "source": [
    "test_data=pd.read_csv('test.csv')\n",
    "test_data.head()"
   ]
  },
  {
   "cell_type": "code",
   "execution_count": 38,
   "id": "462f40c4",
   "metadata": {},
   "outputs": [
    {
     "data": {
      "text/plain": [
       "(11383, 18)"
      ]
     },
     "execution_count": 38,
     "metadata": {},
     "output_type": "execute_result"
    }
   ],
   "source": [
    "test_data.shape"
   ]
  },
  {
   "cell_type": "code",
   "execution_count": 39,
   "id": "1a78d706",
   "metadata": {},
   "outputs": [
    {
     "name": "stdout",
     "output_type": "stream",
     "text": [
      "<class 'pandas.core.frame.DataFrame'>\n",
      "RangeIndex: 11383 entries, 0 to 11382\n",
      "Data columns (total 18 columns):\n",
      " #   Column                   Non-Null Count  Dtype  \n",
      "---  ------                   --------------  -----  \n",
      " 0   customer_id              11383 non-null  object \n",
      " 1   name                     11383 non-null  object \n",
      " 2   age                      11383 non-null  int64  \n",
      " 3   gender                   11383 non-null  object \n",
      " 4   owns_car                 11251 non-null  object \n",
      " 5   owns_house               11383 non-null  object \n",
      " 6   no_of_children           11193 non-null  float64\n",
      " 7   net_yearly_income        11383 non-null  float64\n",
      " 8   no_of_days_employed      11278 non-null  float64\n",
      " 9   occupation_type          11383 non-null  object \n",
      " 10  total_family_members     11352 non-null  float64\n",
      " 11  migrant_worker           11357 non-null  float64\n",
      " 12  yearly_debt_payments     11361 non-null  float64\n",
      " 13  credit_limit             11383 non-null  float64\n",
      " 14  credit_limit_used(%)     11383 non-null  int64  \n",
      " 15  credit_score             11380 non-null  float64\n",
      " 16  prev_defaults            11383 non-null  int64  \n",
      " 17  default_in_last_6months  11383 non-null  int64  \n",
      "dtypes: float64(8), int64(4), object(6)\n",
      "memory usage: 1.6+ MB\n"
     ]
    }
   ],
   "source": [
    "test_data.info()"
   ]
  },
  {
   "cell_type": "code",
   "execution_count": 40,
   "id": "a56968d7",
   "metadata": {},
   "outputs": [
    {
     "data": {
      "text/html": [
       "<div>\n",
       "<style scoped>\n",
       "    .dataframe tbody tr th:only-of-type {\n",
       "        vertical-align: middle;\n",
       "    }\n",
       "\n",
       "    .dataframe tbody tr th {\n",
       "        vertical-align: top;\n",
       "    }\n",
       "\n",
       "    .dataframe thead th {\n",
       "        text-align: right;\n",
       "    }\n",
       "</style>\n",
       "<table border=\"1\" class=\"dataframe\">\n",
       "  <thead>\n",
       "    <tr style=\"text-align: right;\">\n",
       "      <th></th>\n",
       "      <th>age</th>\n",
       "      <th>no_of_children</th>\n",
       "      <th>net_yearly_income</th>\n",
       "      <th>no_of_days_employed</th>\n",
       "      <th>total_family_members</th>\n",
       "      <th>migrant_worker</th>\n",
       "      <th>yearly_debt_payments</th>\n",
       "      <th>credit_limit</th>\n",
       "      <th>credit_limit_used(%)</th>\n",
       "      <th>credit_score</th>\n",
       "      <th>prev_defaults</th>\n",
       "      <th>default_in_last_6months</th>\n",
       "    </tr>\n",
       "  </thead>\n",
       "  <tbody>\n",
       "    <tr>\n",
       "      <th>count</th>\n",
       "      <td>11383.000000</td>\n",
       "      <td>11193.000000</td>\n",
       "      <td>1.138300e+04</td>\n",
       "      <td>11278.000000</td>\n",
       "      <td>11352.000000</td>\n",
       "      <td>11357.000000</td>\n",
       "      <td>11361.000000</td>\n",
       "      <td>11383.000000</td>\n",
       "      <td>11383.000000</td>\n",
       "      <td>11380.000000</td>\n",
       "      <td>11383.000000</td>\n",
       "      <td>11383.000000</td>\n",
       "    </tr>\n",
       "    <tr>\n",
       "      <th>mean</th>\n",
       "      <td>39.073004</td>\n",
       "      <td>0.419012</td>\n",
       "      <td>1.987084e+05</td>\n",
       "      <td>65519.798280</td>\n",
       "      <td>2.157593</td>\n",
       "      <td>0.178040</td>\n",
       "      <td>32078.968043</td>\n",
       "      <td>42972.207247</td>\n",
       "      <td>51.780989</td>\n",
       "      <td>784.389455</td>\n",
       "      <td>0.058069</td>\n",
       "      <td>0.048669</td>\n",
       "    </tr>\n",
       "    <tr>\n",
       "      <th>std</th>\n",
       "      <td>9.572474</td>\n",
       "      <td>0.727709</td>\n",
       "      <td>1.151905e+05</td>\n",
       "      <td>137572.106971</td>\n",
       "      <td>0.917391</td>\n",
       "      <td>0.382563</td>\n",
       "      <td>17417.412533</td>\n",
       "      <td>29325.712903</td>\n",
       "      <td>29.386130</td>\n",
       "      <td>100.468636</td>\n",
       "      <td>0.260202</td>\n",
       "      <td>0.215185</td>\n",
       "    </tr>\n",
       "    <tr>\n",
       "      <th>min</th>\n",
       "      <td>23.000000</td>\n",
       "      <td>0.000000</td>\n",
       "      <td>3.030994e+04</td>\n",
       "      <td>-3.000000</td>\n",
       "      <td>1.000000</td>\n",
       "      <td>0.000000</td>\n",
       "      <td>2371.740000</td>\n",
       "      <td>3604.650000</td>\n",
       "      <td>0.000000</td>\n",
       "      <td>500.000000</td>\n",
       "      <td>0.000000</td>\n",
       "      <td>0.000000</td>\n",
       "    </tr>\n",
       "    <tr>\n",
       "      <th>25%</th>\n",
       "      <td>31.000000</td>\n",
       "      <td>0.000000</td>\n",
       "      <td>1.274479e+05</td>\n",
       "      <td>934.250000</td>\n",
       "      <td>2.000000</td>\n",
       "      <td>0.000000</td>\n",
       "      <td>19522.320000</td>\n",
       "      <td>24148.525000</td>\n",
       "      <td>26.000000</td>\n",
       "      <td>705.000000</td>\n",
       "      <td>0.000000</td>\n",
       "      <td>0.000000</td>\n",
       "    </tr>\n",
       "    <tr>\n",
       "      <th>50%</th>\n",
       "      <td>39.000000</td>\n",
       "      <td>0.000000</td>\n",
       "      <td>1.728695e+05</td>\n",
       "      <td>2216.000000</td>\n",
       "      <td>2.000000</td>\n",
       "      <td>0.000000</td>\n",
       "      <td>29246.110000</td>\n",
       "      <td>35793.490000</td>\n",
       "      <td>53.000000</td>\n",
       "      <td>787.000000</td>\n",
       "      <td>0.000000</td>\n",
       "      <td>0.000000</td>\n",
       "    </tr>\n",
       "    <tr>\n",
       "      <th>75%</th>\n",
       "      <td>47.000000</td>\n",
       "      <td>1.000000</td>\n",
       "      <td>2.402339e+05</td>\n",
       "      <td>5517.000000</td>\n",
       "      <td>3.000000</td>\n",
       "      <td>0.000000</td>\n",
       "      <td>40729.260000</td>\n",
       "      <td>53527.890000</td>\n",
       "      <td>78.000000</td>\n",
       "      <td>870.000000</td>\n",
       "      <td>0.000000</td>\n",
       "      <td>0.000000</td>\n",
       "    </tr>\n",
       "    <tr>\n",
       "      <th>max</th>\n",
       "      <td>55.000000</td>\n",
       "      <td>11.000000</td>\n",
       "      <td>2.472450e+06</td>\n",
       "      <td>365252.000000</td>\n",
       "      <td>13.000000</td>\n",
       "      <td>1.000000</td>\n",
       "      <td>280114.740000</td>\n",
       "      <td>421517.090000</td>\n",
       "      <td>99.000000</td>\n",
       "      <td>949.000000</td>\n",
       "      <td>2.000000</td>\n",
       "      <td>1.000000</td>\n",
       "    </tr>\n",
       "  </tbody>\n",
       "</table>\n",
       "</div>"
      ],
      "text/plain": [
       "                age  no_of_children  net_yearly_income  no_of_days_employed  \\\n",
       "count  11383.000000    11193.000000       1.138300e+04         11278.000000   \n",
       "mean      39.073004        0.419012       1.987084e+05         65519.798280   \n",
       "std        9.572474        0.727709       1.151905e+05        137572.106971   \n",
       "min       23.000000        0.000000       3.030994e+04            -3.000000   \n",
       "25%       31.000000        0.000000       1.274479e+05           934.250000   \n",
       "50%       39.000000        0.000000       1.728695e+05          2216.000000   \n",
       "75%       47.000000        1.000000       2.402339e+05          5517.000000   \n",
       "max       55.000000       11.000000       2.472450e+06        365252.000000   \n",
       "\n",
       "       total_family_members  migrant_worker  yearly_debt_payments  \\\n",
       "count          11352.000000    11357.000000          11361.000000   \n",
       "mean               2.157593        0.178040          32078.968043   \n",
       "std                0.917391        0.382563          17417.412533   \n",
       "min                1.000000        0.000000           2371.740000   \n",
       "25%                2.000000        0.000000          19522.320000   \n",
       "50%                2.000000        0.000000          29246.110000   \n",
       "75%                3.000000        0.000000          40729.260000   \n",
       "max               13.000000        1.000000         280114.740000   \n",
       "\n",
       "        credit_limit  credit_limit_used(%)  credit_score  prev_defaults  \\\n",
       "count   11383.000000          11383.000000  11380.000000   11383.000000   \n",
       "mean    42972.207247             51.780989    784.389455       0.058069   \n",
       "std     29325.712903             29.386130    100.468636       0.260202   \n",
       "min      3604.650000              0.000000    500.000000       0.000000   \n",
       "25%     24148.525000             26.000000    705.000000       0.000000   \n",
       "50%     35793.490000             53.000000    787.000000       0.000000   \n",
       "75%     53527.890000             78.000000    870.000000       0.000000   \n",
       "max    421517.090000             99.000000    949.000000       2.000000   \n",
       "\n",
       "       default_in_last_6months  \n",
       "count             11383.000000  \n",
       "mean                  0.048669  \n",
       "std                   0.215185  \n",
       "min                   0.000000  \n",
       "25%                   0.000000  \n",
       "50%                   0.000000  \n",
       "75%                   0.000000  \n",
       "max                   1.000000  "
      ]
     },
     "execution_count": 40,
     "metadata": {},
     "output_type": "execute_result"
    }
   ],
   "source": [
    "test_data.describe()"
   ]
  },
  {
   "cell_type": "code",
   "execution_count": 41,
   "id": "c32a9891",
   "metadata": {},
   "outputs": [
    {
     "data": {
      "text/plain": [
       "customer_id                  0\n",
       "name                         0\n",
       "age                          0\n",
       "gender                       0\n",
       "owns_car                   132\n",
       "owns_house                   0\n",
       "no_of_children             190\n",
       "net_yearly_income            0\n",
       "no_of_days_employed        105\n",
       "occupation_type              0\n",
       "total_family_members        31\n",
       "migrant_worker              26\n",
       "yearly_debt_payments        22\n",
       "credit_limit                 0\n",
       "credit_limit_used(%)         0\n",
       "credit_score                 3\n",
       "prev_defaults                0\n",
       "default_in_last_6months      0\n",
       "dtype: int64"
      ]
     },
     "execution_count": 41,
     "metadata": {},
     "output_type": "execute_result"
    }
   ],
   "source": [
    "test_data.isna().sum()"
   ]
  },
  {
   "cell_type": "markdown",
   "id": "59e0df14",
   "metadata": {},
   "source": [
    "### Bivariate Analysis"
   ]
  },
  {
   "cell_type": "code",
   "execution_count": 42,
   "id": "c524c4fa",
   "metadata": {},
   "outputs": [
    {
     "data": {
      "text/plain": [
       "<AxesSubplot:>"
      ]
     },
     "execution_count": 42,
     "metadata": {},
     "output_type": "execute_result"
    },
    {
     "data": {
      "image/png": "[encoded data removed]",
      "text/plain": [
       "<Figure size 1296x720 with 2 Axes>"
      ]
     },
     "metadata": {
      "needs_background": "light"
     },
     "output_type": "display_data"
    }
   ],
   "source": [
    "#get correlations of numerical features in dataset\n",
    "plt.figure(figsize=(18,10))\n",
    "#plot heat map\n",
    "sns.heatmap(test_data.corr(),cmap='coolwarm',annot=True)"
   ]
  },
  {
   "cell_type": "code",
   "execution_count": null,
   "id": "306ddea5",
   "metadata": {},
   "outputs": [],
   "source": []
  },
  {
   "cell_type": "markdown",
   "id": "73b39308",
   "metadata": {},
   "source": [
    "### Preprocessing"
   ]
  },
  {
   "cell_type": "code",
   "execution_count": 43,
   "id": "6bbed222",
   "metadata": {},
   "outputs": [
    {
     "data": {
      "text/plain": [
       "customer_id                0\n",
       "name                       0\n",
       "age                        0\n",
       "gender                     0\n",
       "owns_car                   0\n",
       "owns_house                 0\n",
       "no_of_children             0\n",
       "net_yearly_income          0\n",
       "no_of_days_employed        0\n",
       "occupation_type            0\n",
       "total_family_members       0\n",
       "migrant_worker             0\n",
       "yearly_debt_payments       0\n",
       "credit_limit               0\n",
       "credit_limit_used(%)       0\n",
       "credit_score               0\n",
       "prev_defaults              0\n",
       "default_in_last_6months    0\n",
       "dtype: int64"
      ]
     },
     "execution_count": 43,
     "metadata": {},
     "output_type": "execute_result"
    }
   ],
   "source": [
    "test_data.fillna(axis=0,method='ffill',inplace=True)\n",
    "test_data.isna().sum()"
   ]
  },
  {
   "cell_type": "markdown",
   "id": "d3e29ee6",
   "metadata": {},
   "source": [
    "### Outlier Detection and Handling"
   ]
  },
  {
   "cell_type": "code",
   "execution_count": 44,
   "id": "e33a4937",
   "metadata": {
    "scrolled": true
   },
   "outputs": [
    {
     "data": {
      "image/png": "[encoded data removed]",
      "text/plain": [
       "<Figure size 1080x1080 with 12 Axes>"
      ]
     },
     "metadata": {
      "needs_background": "light"
     },
     "output_type": "display_data"
    }
   ],
   "source": [
    "test_data.plot(kind=\"box\",subplots=True,layout=(4,3),figsize=(15,15))\n",
    "plt.show()"
   ]
  },
  {
   "cell_type": "code",
   "execution_count": 45,
   "id": "92acdf9c",
   "metadata": {},
   "outputs": [
    {
     "data": {
      "text/plain": [
       "<AxesSubplot:xlabel='no_of_children'>"
      ]
     },
     "execution_count": 45,
     "metadata": {},
     "output_type": "execute_result"
    },
    {
     "data": {
      "image/png": "[encoded data removed]",
      "text/plain": [
       "<Figure size 432x288 with 1 Axes>"
      ]
     },
     "metadata": {
      "needs_background": "light"
     },
     "output_type": "display_data"
    }
   ],
   "source": [
    "#outlier handling - no-of-children\n",
    "test_data['no_of_children'].value_counts()\n",
    "median=test_data[\"no_of_children\"].median()\n",
    "test_data[\"no_of_children\"] = np.where(test_data[\"no_of_children\"] >2, median,test_data[\"no_of_children\"])\n",
    "sns.boxplot(test_data['no_of_children'])"
   ]
  },
  {
   "cell_type": "code",
   "execution_count": 46,
   "id": "120017a2",
   "metadata": {},
   "outputs": [
    {
     "data": {
      "text/plain": [
       "<AxesSubplot:xlabel='net_yearly_income'>"
      ]
     },
     "execution_count": 46,
     "metadata": {},
     "output_type": "execute_result"
    },
    {
     "data": {
      "image/png": "[encoded data removed]",
      "text/plain": [
       "<Figure size 432x288 with 1 Axes>"
      ]
     },
     "metadata": {
      "needs_background": "light"
     },
     "output_type": "display_data"
    }
   ],
   "source": [
    "#net-yearly-income\n",
    "tenth_percentile = int(np.percentile(test_data['net_yearly_income'], 10))\n",
    "nin_percentile = int(np.percentile(test_data['net_yearly_income'], 90))\n",
    "\n",
    "test_data['net_yearly_income'] = np.where(test_data['net_yearly_income']<tenth_percentile, tenth_percentile, test_data['net_yearly_income'])\n",
    "test_data['net_yearly_income'] = np.where(test_data['net_yearly_income']>nin_percentile, nin_percentile, test_data['net_yearly_income'])\n",
    "sns.boxplot(test_data['net_yearly_income'])"
   ]
  },
  {
   "cell_type": "code",
   "execution_count": 47,
   "id": "0c660ead",
   "metadata": {
    "scrolled": true
   },
   "outputs": [
    {
     "data": {
      "text/plain": [
       "<AxesSubplot:xlabel='no_of_days_employed'>"
      ]
     },
     "execution_count": 47,
     "metadata": {},
     "output_type": "execute_result"
    },
    {
     "data": {
      "image/png": "[encoded data removed]",
      "text/plain": [
       "<Figure size 432x288 with 1 Axes>"
      ]
     },
     "metadata": {
      "needs_background": "light"
     },
     "output_type": "display_data"
    }
   ],
   "source": [
    "#no-of-days-employed\n",
    "\n",
    "tenth_percentile = int(np.percentile(test_data['no_of_days_employed'], 10))\n",
    "nin_percentile = int(np.percentile(test_data['no_of_days_employed'], 90))\n",
    "median=train_data[\"no_of_days_employed\"].median()\n",
    "\n",
    "test_data['no_of_days_employed'] = np.where(test_data['no_of_days_employed']<tenth_percentile, median, test_data['no_of_days_employed'])\n",
    "test_data['no_of_days_employed'] = np.where(test_data['no_of_days_employed']>nin_percentile, median, test_data['no_of_days_employed'])\n",
    "sns.boxplot(test_data['no_of_days_employed'])"
   ]
  },
  {
   "cell_type": "code",
   "execution_count": 48,
   "id": "4127bfbd",
   "metadata": {},
   "outputs": [
    {
     "data": {
      "text/plain": [
       "<AxesSubplot:xlabel='total_family_members'>"
      ]
     },
     "execution_count": 48,
     "metadata": {},
     "output_type": "execute_result"
    },
    {
     "data": {
      "image/png": "[encoded data removed]",
      "text/plain": [
       "<Figure size 432x288 with 1 Axes>"
      ]
     },
     "metadata": {
      "needs_background": "light"
     },
     "output_type": "display_data"
    }
   ],
   "source": [
    "median=test_data['total_family_members'].median()\n",
    "test_data[\"total_family_members\"] = np.where(test_data[\"total_family_members\"] >4, median,test_data[\"total_family_members\"])\n",
    "sns.boxplot(test_data['total_family_members'])"
   ]
  },
  {
   "cell_type": "code",
   "execution_count": 49,
   "id": "5d592024",
   "metadata": {},
   "outputs": [
    {
     "data": {
      "text/plain": [
       "<AxesSubplot:xlabel='yearly_debt_payments'>"
      ]
     },
     "execution_count": 49,
     "metadata": {},
     "output_type": "execute_result"
    },
    {
     "data": {
      "image/png": "[encoded data removed]",
      "text/plain": [
       "<Figure size 432x288 with 1 Axes>"
      ]
     },
     "metadata": {
      "needs_background": "light"
     },
     "output_type": "display_data"
    }
   ],
   "source": [
    "tenth_percentile = int(np.percentile(test_data['yearly_debt_payments'], 10))\n",
    "nin_percentile = int(np.percentile(test_data['yearly_debt_payments'], 90))\n",
    "\n",
    "test_data['yearly_debt_payments'] = np.where(test_data['yearly_debt_payments']<tenth_percentile, tenth_percentile, test_data['yearly_debt_payments'])\n",
    "test_data['yearly_debt_payments'] = np.where(test_data['yearly_debt_payments']>nin_percentile, nin_percentile, test_data['yearly_debt_payments'])\n",
    "sns.boxplot(test_data['yearly_debt_payments'])"
   ]
  },
  {
   "cell_type": "code",
   "execution_count": 50,
   "id": "3383ee5b",
   "metadata": {},
   "outputs": [
    {
     "data": {
      "text/plain": [
       "<AxesSubplot:xlabel='credit_limit'>"
      ]
     },
     "execution_count": 50,
     "metadata": {},
     "output_type": "execute_result"
    },
    {
     "data": {
      "image/png": "[encoded data removed]",
      "text/plain": [
       "<Figure size 432x288 with 1 Axes>"
      ]
     },
     "metadata": {
      "needs_background": "light"
     },
     "output_type": "display_data"
    }
   ],
   "source": [
    "\n",
    "tenth_percentile = int(np.percentile(test_data['credit_limit'], 10))\n",
    "nin_percentile = int(np.percentile(test_data['credit_limit'], 90))\n",
    "\n",
    "test_data['credit_limit'] = np.where(test_data['credit_limit']<tenth_percentile, tenth_percentile, test_data['credit_limit'])\n",
    "test_data['credit_limit'] = np.where(test_data['credit_limit']>nin_percentile, nin_percentile, test_data['credit_limit'])\n",
    "sns.boxplot(test_data['credit_limit'])"
   ]
  },
  {
   "cell_type": "markdown",
   "id": "74a55f7e",
   "metadata": {},
   "source": [
    "### Encoding"
   ]
  },
  {
   "cell_type": "code",
   "execution_count": 51,
   "id": "97ae6ef2",
   "metadata": {
    "scrolled": true
   },
   "outputs": [
    {
     "data": {
      "text/plain": [
       "customer_id                11383\n",
       "name                        2459\n",
       "age                           33\n",
       "gender                         3\n",
       "owns_car                       2\n",
       "owns_house                     2\n",
       "no_of_children                 3\n",
       "net_yearly_income           9104\n",
       "no_of_days_employed         4232\n",
       "occupation_type               19\n",
       "total_family_members           4\n",
       "migrant_worker                 2\n",
       "yearly_debt_payments        9076\n",
       "credit_limit                9096\n",
       "credit_limit_used(%)         100\n",
       "credit_score                 449\n",
       "prev_defaults                  3\n",
       "default_in_last_6months        2\n",
       "dtype: int64"
      ]
     },
     "execution_count": 51,
     "metadata": {},
     "output_type": "execute_result"
    }
   ],
   "source": [
    "from sklearn import preprocessing   \n",
    "test_data.nunique()"
   ]
  },
  {
   "cell_type": "code",
   "execution_count": 52,
   "id": "5af2cedd",
   "metadata": {
    "scrolled": true
   },
   "outputs": [
    {
     "data": {
      "text/plain": [
       "F      7443\n",
       "M      3939\n",
       "XNA       1\n",
       "Name: gender, dtype: int64"
      ]
     },
     "execution_count": 52,
     "metadata": {},
     "output_type": "execute_result"
    }
   ],
   "source": [
    "test_data['gender'].value_counts()"
   ]
  },
  {
   "cell_type": "code",
   "execution_count": 53,
   "id": "44541718",
   "metadata": {
    "scrolled": true
   },
   "outputs": [
    {
     "data": {
      "text/plain": [
       "F    7444\n",
       "M    3939\n",
       "Name: gender, dtype: int64"
      ]
     },
     "execution_count": 53,
     "metadata": {},
     "output_type": "execute_result"
    }
   ],
   "source": [
    "test_data['gender'] = np.where(test_data['gender']=='XNA', 'F', test_data['gender'])\n",
    "test_data['gender'].value_counts()"
   ]
  },
  {
   "cell_type": "code",
   "execution_count": 54,
   "id": "4dc2bb86",
   "metadata": {},
   "outputs": [
    {
     "name": "stdout",
     "output_type": "stream",
     "text": [
      "Index(['customer_id', 'name', 'gender', 'owns_car', 'owns_house',\n",
      "       'occupation_type'],\n",
      "      dtype='object')\n"
     ]
    },
    {
     "data": {
      "text/html": [
       "<div>\n",
       "<style scoped>\n",
       "    .dataframe tbody tr th:only-of-type {\n",
       "        vertical-align: middle;\n",
       "    }\n",
       "\n",
       "    .dataframe tbody tr th {\n",
       "        vertical-align: top;\n",
       "    }\n",
       "\n",
       "    .dataframe thead th {\n",
       "        text-align: right;\n",
       "    }\n",
       "</style>\n",
       "<table border=\"1\" class=\"dataframe\">\n",
       "  <thead>\n",
       "    <tr style=\"text-align: right;\">\n",
       "      <th></th>\n",
       "      <th>customer_id</th>\n",
       "      <th>name</th>\n",
       "      <th>age</th>\n",
       "      <th>gender</th>\n",
       "      <th>owns_car</th>\n",
       "      <th>owns_house</th>\n",
       "      <th>no_of_children</th>\n",
       "      <th>net_yearly_income</th>\n",
       "      <th>no_of_days_employed</th>\n",
       "      <th>occupation_type</th>\n",
       "      <th>total_family_members</th>\n",
       "      <th>migrant_worker</th>\n",
       "      <th>yearly_debt_payments</th>\n",
       "      <th>credit_limit</th>\n",
       "      <th>credit_limit_used(%)</th>\n",
       "      <th>credit_score</th>\n",
       "      <th>prev_defaults</th>\n",
       "      <th>default_in_last_6months</th>\n",
       "    </tr>\n",
       "  </thead>\n",
       "  <tbody>\n",
       "    <tr>\n",
       "      <th>0</th>\n",
       "      <td>CST_142525</td>\n",
       "      <td>1992</td>\n",
       "      <td>52</td>\n",
       "      <td>F</td>\n",
       "      <td>Y</td>\n",
       "      <td>N</td>\n",
       "      <td>0.0</td>\n",
       "      <td>232640.53</td>\n",
       "      <td>998.0</td>\n",
       "      <td>17</td>\n",
       "      <td>2.0</td>\n",
       "      <td>0.0</td>\n",
       "      <td>14406.73</td>\n",
       "      <td>26524.40</td>\n",
       "      <td>4</td>\n",
       "      <td>779.0</td>\n",
       "      <td>0</td>\n",
       "      <td>0</td>\n",
       "    </tr>\n",
       "    <tr>\n",
       "      <th>1</th>\n",
       "      <td>CST_129215</td>\n",
       "      <td>1923</td>\n",
       "      <td>48</td>\n",
       "      <td>F</td>\n",
       "      <td>N</td>\n",
       "      <td>N</td>\n",
       "      <td>1.0</td>\n",
       "      <td>284396.79</td>\n",
       "      <td>1338.0</td>\n",
       "      <td>17</td>\n",
       "      <td>3.0</td>\n",
       "      <td>0.0</td>\n",
       "      <td>54844.00</td>\n",
       "      <td>68998.72</td>\n",
       "      <td>70</td>\n",
       "      <td>806.0</td>\n",
       "      <td>0</td>\n",
       "      <td>0</td>\n",
       "    </tr>\n",
       "    <tr>\n",
       "      <th>2</th>\n",
       "      <td>CST_138443</td>\n",
       "      <td>2228</td>\n",
       "      <td>50</td>\n",
       "      <td>F</td>\n",
       "      <td>N</td>\n",
       "      <td>N</td>\n",
       "      <td>1.0</td>\n",
       "      <td>149419.28</td>\n",
       "      <td>1210.0</td>\n",
       "      <td>17</td>\n",
       "      <td>3.0</td>\n",
       "      <td>0.0</td>\n",
       "      <td>21611.01</td>\n",
       "      <td>25187.80</td>\n",
       "      <td>71</td>\n",
       "      <td>528.0</td>\n",
       "      <td>2</td>\n",
       "      <td>0</td>\n",
       "    </tr>\n",
       "    <tr>\n",
       "      <th>3</th>\n",
       "      <td>CST_123812</td>\n",
       "      <td>1016</td>\n",
       "      <td>30</td>\n",
       "      <td>F</td>\n",
       "      <td>N</td>\n",
       "      <td>N</td>\n",
       "      <td>1.0</td>\n",
       "      <td>160437.54</td>\n",
       "      <td>503.0</td>\n",
       "      <td>8</td>\n",
       "      <td>2.0</td>\n",
       "      <td>1.0</td>\n",
       "      <td>28990.76</td>\n",
       "      <td>29179.39</td>\n",
       "      <td>9</td>\n",
       "      <td>815.0</td>\n",
       "      <td>0</td>\n",
       "      <td>0</td>\n",
       "    </tr>\n",
       "    <tr>\n",
       "      <th>4</th>\n",
       "      <td>CST_144450</td>\n",
       "      <td>1384</td>\n",
       "      <td>52</td>\n",
       "      <td>M</td>\n",
       "      <td>N</td>\n",
       "      <td>Y</td>\n",
       "      <td>0.0</td>\n",
       "      <td>233480.37</td>\n",
       "      <td>2261.0</td>\n",
       "      <td>8</td>\n",
       "      <td>2.0</td>\n",
       "      <td>1.0</td>\n",
       "      <td>54213.72</td>\n",
       "      <td>76021.00</td>\n",
       "      <td>82</td>\n",
       "      <td>613.0</td>\n",
       "      <td>1</td>\n",
       "      <td>1</td>\n",
       "    </tr>\n",
       "  </tbody>\n",
       "</table>\n",
       "</div>"
      ],
      "text/plain": [
       "  customer_id  name  age gender owns_car owns_house  no_of_children  \\\n",
       "0  CST_142525  1992   52      F        Y          N             0.0   \n",
       "1  CST_129215  1923   48      F        N          N             1.0   \n",
       "2  CST_138443  2228   50      F        N          N             1.0   \n",
       "3  CST_123812  1016   30      F        N          N             1.0   \n",
       "4  CST_144450  1384   52      M        N          Y             0.0   \n",
       "\n",
       "   net_yearly_income  no_of_days_employed  occupation_type  \\\n",
       "0          232640.53                998.0               17   \n",
       "1          284396.79               1338.0               17   \n",
       "2          149419.28               1210.0               17   \n",
       "3          160437.54                503.0                8   \n",
       "4          233480.37               2261.0                8   \n",
       "\n",
       "   total_family_members  migrant_worker  yearly_debt_payments  credit_limit  \\\n",
       "0                   2.0             0.0              14406.73      26524.40   \n",
       "1                   3.0             0.0              54844.00      68998.72   \n",
       "2                   3.0             0.0              21611.01      25187.80   \n",
       "3                   2.0             1.0              28990.76      29179.39   \n",
       "4                   2.0             1.0              54213.72      76021.00   \n",
       "\n",
       "   credit_limit_used(%)  credit_score  prev_defaults  default_in_last_6months  \n",
       "0                     4         779.0              0                        0  \n",
       "1                    70         806.0              0                        0  \n",
       "2                    71         528.0              2                        0  \n",
       "3                     9         815.0              0                        0  \n",
       "4                    82         613.0              1                        1  "
      ]
     },
     "execution_count": 54,
     "metadata": {},
     "output_type": "execute_result"
    }
   ],
   "source": [
    "labencoder = preprocessing.LabelEncoder()\n",
    "to_be_columns=test_data.select_dtypes(include=['object']).columns\n",
    "print(to_be_columns)\n",
    "label_encode = ['name','occupation_type']\n",
    "for i in label_encode:\n",
    "    test_data[i]= labencoder.fit_transform(test_data[i])   \n",
    "test_data.head()"
   ]
  },
  {
   "cell_type": "code",
   "execution_count": 55,
   "id": "14ad4aff",
   "metadata": {},
   "outputs": [
    {
     "data": {
      "text/html": [
       "<div>\n",
       "<style scoped>\n",
       "    .dataframe tbody tr th:only-of-type {\n",
       "        vertical-align: middle;\n",
       "    }\n",
       "\n",
       "    .dataframe tbody tr th {\n",
       "        vertical-align: top;\n",
       "    }\n",
       "\n",
       "    .dataframe thead th {\n",
       "        text-align: right;\n",
       "    }\n",
       "</style>\n",
       "<table border=\"1\" class=\"dataframe\">\n",
       "  <thead>\n",
       "    <tr style=\"text-align: right;\">\n",
       "      <th></th>\n",
       "      <th>customer_id</th>\n",
       "      <th>name</th>\n",
       "      <th>age</th>\n",
       "      <th>no_of_children</th>\n",
       "      <th>net_yearly_income</th>\n",
       "      <th>no_of_days_employed</th>\n",
       "      <th>occupation_type</th>\n",
       "      <th>total_family_members</th>\n",
       "      <th>migrant_worker</th>\n",
       "      <th>yearly_debt_payments</th>\n",
       "      <th>...</th>\n",
       "      <th>credit_limit_used(%)</th>\n",
       "      <th>credit_score</th>\n",
       "      <th>prev_defaults</th>\n",
       "      <th>default_in_last_6months</th>\n",
       "      <th>owns_car_No</th>\n",
       "      <th>owns_car_Yes</th>\n",
       "      <th>owns_house_No</th>\n",
       "      <th>owns_house_Yes</th>\n",
       "      <th>gender_female</th>\n",
       "      <th>gender_male</th>\n",
       "    </tr>\n",
       "  </thead>\n",
       "  <tbody>\n",
       "    <tr>\n",
       "      <th>0</th>\n",
       "      <td>CST_142525</td>\n",
       "      <td>1992</td>\n",
       "      <td>52</td>\n",
       "      <td>0.0</td>\n",
       "      <td>232640.53</td>\n",
       "      <td>998.0</td>\n",
       "      <td>17</td>\n",
       "      <td>2.0</td>\n",
       "      <td>0.0</td>\n",
       "      <td>14406.73</td>\n",
       "      <td>...</td>\n",
       "      <td>4</td>\n",
       "      <td>779.0</td>\n",
       "      <td>0</td>\n",
       "      <td>0</td>\n",
       "      <td>0</td>\n",
       "      <td>1</td>\n",
       "      <td>1</td>\n",
       "      <td>0</td>\n",
       "      <td>1</td>\n",
       "      <td>0</td>\n",
       "    </tr>\n",
       "    <tr>\n",
       "      <th>1</th>\n",
       "      <td>CST_129215</td>\n",
       "      <td>1923</td>\n",
       "      <td>48</td>\n",
       "      <td>1.0</td>\n",
       "      <td>284396.79</td>\n",
       "      <td>1338.0</td>\n",
       "      <td>17</td>\n",
       "      <td>3.0</td>\n",
       "      <td>0.0</td>\n",
       "      <td>54844.00</td>\n",
       "      <td>...</td>\n",
       "      <td>70</td>\n",
       "      <td>806.0</td>\n",
       "      <td>0</td>\n",
       "      <td>0</td>\n",
       "      <td>1</td>\n",
       "      <td>0</td>\n",
       "      <td>1</td>\n",
       "      <td>0</td>\n",
       "      <td>1</td>\n",
       "      <td>0</td>\n",
       "    </tr>\n",
       "    <tr>\n",
       "      <th>2</th>\n",
       "      <td>CST_138443</td>\n",
       "      <td>2228</td>\n",
       "      <td>50</td>\n",
       "      <td>1.0</td>\n",
       "      <td>149419.28</td>\n",
       "      <td>1210.0</td>\n",
       "      <td>17</td>\n",
       "      <td>3.0</td>\n",
       "      <td>0.0</td>\n",
       "      <td>21611.01</td>\n",
       "      <td>...</td>\n",
       "      <td>71</td>\n",
       "      <td>528.0</td>\n",
       "      <td>2</td>\n",
       "      <td>0</td>\n",
       "      <td>1</td>\n",
       "      <td>0</td>\n",
       "      <td>1</td>\n",
       "      <td>0</td>\n",
       "      <td>1</td>\n",
       "      <td>0</td>\n",
       "    </tr>\n",
       "    <tr>\n",
       "      <th>3</th>\n",
       "      <td>CST_123812</td>\n",
       "      <td>1016</td>\n",
       "      <td>30</td>\n",
       "      <td>1.0</td>\n",
       "      <td>160437.54</td>\n",
       "      <td>503.0</td>\n",
       "      <td>8</td>\n",
       "      <td>2.0</td>\n",
       "      <td>1.0</td>\n",
       "      <td>28990.76</td>\n",
       "      <td>...</td>\n",
       "      <td>9</td>\n",
       "      <td>815.0</td>\n",
       "      <td>0</td>\n",
       "      <td>0</td>\n",
       "      <td>1</td>\n",
       "      <td>0</td>\n",
       "      <td>1</td>\n",
       "      <td>0</td>\n",
       "      <td>1</td>\n",
       "      <td>0</td>\n",
       "    </tr>\n",
       "    <tr>\n",
       "      <th>4</th>\n",
       "      <td>CST_144450</td>\n",
       "      <td>1384</td>\n",
       "      <td>52</td>\n",
       "      <td>0.0</td>\n",
       "      <td>233480.37</td>\n",
       "      <td>2261.0</td>\n",
       "      <td>8</td>\n",
       "      <td>2.0</td>\n",
       "      <td>1.0</td>\n",
       "      <td>54213.72</td>\n",
       "      <td>...</td>\n",
       "      <td>82</td>\n",
       "      <td>613.0</td>\n",
       "      <td>1</td>\n",
       "      <td>1</td>\n",
       "      <td>1</td>\n",
       "      <td>0</td>\n",
       "      <td>0</td>\n",
       "      <td>1</td>\n",
       "      <td>0</td>\n",
       "      <td>1</td>\n",
       "    </tr>\n",
       "  </tbody>\n",
       "</table>\n",
       "<p>5 rows × 21 columns</p>\n",
       "</div>"
      ],
      "text/plain": [
       "  customer_id  name  age  no_of_children  net_yearly_income  \\\n",
       "0  CST_142525  1992   52             0.0          232640.53   \n",
       "1  CST_129215  1923   48             1.0          284396.79   \n",
       "2  CST_138443  2228   50             1.0          149419.28   \n",
       "3  CST_123812  1016   30             1.0          160437.54   \n",
       "4  CST_144450  1384   52             0.0          233480.37   \n",
       "\n",
       "   no_of_days_employed  occupation_type  total_family_members  migrant_worker  \\\n",
       "0                998.0               17                   2.0             0.0   \n",
       "1               1338.0               17                   3.0             0.0   \n",
       "2               1210.0               17                   3.0             0.0   \n",
       "3                503.0                8                   2.0             1.0   \n",
       "4               2261.0                8                   2.0             1.0   \n",
       "\n",
       "   yearly_debt_payments  ...  credit_limit_used(%)  credit_score  \\\n",
       "0              14406.73  ...                     4         779.0   \n",
       "1              54844.00  ...                    70         806.0   \n",
       "2              21611.01  ...                    71         528.0   \n",
       "3              28990.76  ...                     9         815.0   \n",
       "4              54213.72  ...                    82         613.0   \n",
       "\n",
       "   prev_defaults  default_in_last_6months  owns_car_No  owns_car_Yes  \\\n",
       "0              0                        0            0             1   \n",
       "1              0                        0            1             0   \n",
       "2              2                        0            1             0   \n",
       "3              0                        0            1             0   \n",
       "4              1                        1            1             0   \n",
       "\n",
       "   owns_house_No  owns_house_Yes  gender_female  gender_male  \n",
       "0              1               0              1            0  \n",
       "1              1               0              1            0  \n",
       "2              1               0              1            0  \n",
       "3              1               0              1            0  \n",
       "4              0               1              0            1  \n",
       "\n",
       "[5 rows x 21 columns]"
      ]
     },
     "execution_count": 55,
     "metadata": {},
     "output_type": "execute_result"
    }
   ],
   "source": [
    "hot_encode=['gender', 'owns_car', 'owns_house']\n",
    "gender_opt= pd.get_dummies(test_data['gender'])\n",
    "gender_opt.rename(columns={'F':'gender_female','M':'gender_male'},inplace=True)\n",
    "\n",
    "owns_car= pd.get_dummies(test_data['owns_car'])\n",
    "owns_car.rename(columns={'N':'owns_car_No','Y':'owns_car_Yes'},inplace=True)\n",
    "\n",
    "own_house= pd.get_dummies(test_data['owns_house'])\n",
    "own_house.rename(columns={'N':'owns_house_No','Y':'owns_house_Yes'},inplace=True)\n",
    "\n",
    "test_data=pd.concat([test_data,owns_car,own_house,gender_opt],axis=1)\n",
    "test_data.drop(['gender','owns_car','owns_house'],axis=1,inplace=True)\n",
    "\n",
    "test_data.head()"
   ]
  },
  {
   "cell_type": "markdown",
   "id": "f25e9476",
   "metadata": {},
   "source": [
    "### Standardization"
   ]
  },
  {
   "cell_type": "code",
   "execution_count": 56,
   "id": "44e79370",
   "metadata": {},
   "outputs": [
    {
     "data": {
      "text/html": [
       "<div>\n",
       "<style scoped>\n",
       "    .dataframe tbody tr th:only-of-type {\n",
       "        vertical-align: middle;\n",
       "    }\n",
       "\n",
       "    .dataframe tbody tr th {\n",
       "        vertical-align: top;\n",
       "    }\n",
       "\n",
       "    .dataframe thead th {\n",
       "        text-align: right;\n",
       "    }\n",
       "</style>\n",
       "<table border=\"1\" class=\"dataframe\">\n",
       "  <thead>\n",
       "    <tr style=\"text-align: right;\">\n",
       "      <th></th>\n",
       "      <th>name</th>\n",
       "      <th>age</th>\n",
       "      <th>no_of_children</th>\n",
       "      <th>net_yearly_income</th>\n",
       "      <th>no_of_days_employed</th>\n",
       "      <th>occupation_type</th>\n",
       "      <th>total_family_members</th>\n",
       "      <th>migrant_worker</th>\n",
       "      <th>yearly_debt_payments</th>\n",
       "      <th>credit_limit</th>\n",
       "      <th>credit_limit_used(%)</th>\n",
       "      <th>credit_score</th>\n",
       "      <th>prev_defaults</th>\n",
       "      <th>default_in_last_6months</th>\n",
       "      <th>owns_car_No</th>\n",
       "      <th>owns_car_Yes</th>\n",
       "      <th>owns_house_No</th>\n",
       "      <th>owns_house_Yes</th>\n",
       "      <th>gender_female</th>\n",
       "      <th>gender_male</th>\n",
       "    </tr>\n",
       "  </thead>\n",
       "  <tbody>\n",
       "    <tr>\n",
       "      <th>0</th>\n",
       "      <td>1.110445</td>\n",
       "      <td>1.350494</td>\n",
       "      <td>-0.585158</td>\n",
       "      <td>0.582093</td>\n",
       "      <td>-0.308319</td>\n",
       "      <td>1.126344</td>\n",
       "      <td>-0.134619</td>\n",
       "      <td>-0.465459</td>\n",
       "      <td>-1.240572</td>\n",
       "      <td>-0.715013</td>\n",
       "      <td>-1.626042</td>\n",
       "      <td>-0.053603</td>\n",
       "      <td>-0.223179</td>\n",
       "      <td>-0.226183</td>\n",
       "      <td>-1.381135</td>\n",
       "      <td>1.381135</td>\n",
       "      <td>1.493978</td>\n",
       "      <td>-1.493978</td>\n",
       "      <td>0.727428</td>\n",
       "      <td>-0.727428</td>\n",
       "    </tr>\n",
       "    <tr>\n",
       "      <th>1</th>\n",
       "      <td>1.010901</td>\n",
       "      <td>0.932610</td>\n",
       "      <td>0.986910</td>\n",
       "      <td>1.273263</td>\n",
       "      <td>-0.304834</td>\n",
       "      <td>1.126344</td>\n",
       "      <td>1.061606</td>\n",
       "      <td>-0.465459</td>\n",
       "      <td>1.778152</td>\n",
       "      <td>1.504715</td>\n",
       "      <td>0.620014</td>\n",
       "      <td>0.215158</td>\n",
       "      <td>-0.223179</td>\n",
       "      <td>-0.226183</td>\n",
       "      <td>0.724042</td>\n",
       "      <td>-0.724042</td>\n",
       "      <td>1.493978</td>\n",
       "      <td>-1.493978</td>\n",
       "      <td>0.727428</td>\n",
       "      <td>-0.727428</td>\n",
       "    </tr>\n",
       "    <tr>\n",
       "      <th>2</th>\n",
       "      <td>1.450912</td>\n",
       "      <td>1.141552</td>\n",
       "      <td>0.986910</td>\n",
       "      <td>-0.529271</td>\n",
       "      <td>-0.306146</td>\n",
       "      <td>1.126344</td>\n",
       "      <td>1.061606</td>\n",
       "      <td>-0.465459</td>\n",
       "      <td>-0.702758</td>\n",
       "      <td>-0.784864</td>\n",
       "      <td>0.654045</td>\n",
       "      <td>-2.552087</td>\n",
       "      <td>7.463509</td>\n",
       "      <td>-0.226183</td>\n",
       "      <td>0.724042</td>\n",
       "      <td>-0.724042</td>\n",
       "      <td>1.493978</td>\n",
       "      <td>-1.493978</td>\n",
       "      <td>0.727428</td>\n",
       "      <td>-0.727428</td>\n",
       "    </tr>\n",
       "    <tr>\n",
       "      <th>3</th>\n",
       "      <td>-0.297590</td>\n",
       "      <td>-0.947864</td>\n",
       "      <td>0.986910</td>\n",
       "      <td>-0.382129</td>\n",
       "      <td>-0.313392</td>\n",
       "      <td>-0.484851</td>\n",
       "      <td>-0.134619</td>\n",
       "      <td>2.148415</td>\n",
       "      <td>-0.151845</td>\n",
       "      <td>-0.576262</td>\n",
       "      <td>-1.455886</td>\n",
       "      <td>0.304745</td>\n",
       "      <td>-0.223179</td>\n",
       "      <td>-0.226183</td>\n",
       "      <td>0.724042</td>\n",
       "      <td>-0.724042</td>\n",
       "      <td>1.493978</td>\n",
       "      <td>-1.493978</td>\n",
       "      <td>0.727428</td>\n",
       "      <td>-0.727428</td>\n",
       "    </tr>\n",
       "    <tr>\n",
       "      <th>4</th>\n",
       "      <td>0.233309</td>\n",
       "      <td>1.350494</td>\n",
       "      <td>-0.585158</td>\n",
       "      <td>0.593309</td>\n",
       "      <td>-0.295375</td>\n",
       "      <td>-0.484851</td>\n",
       "      <td>-0.134619</td>\n",
       "      <td>2.148415</td>\n",
       "      <td>1.731100</td>\n",
       "      <td>1.871702</td>\n",
       "      <td>1.028388</td>\n",
       "      <td>-1.705987</td>\n",
       "      <td>3.620165</td>\n",
       "      <td>4.421191</td>\n",
       "      <td>0.724042</td>\n",
       "      <td>-0.724042</td>\n",
       "      <td>-0.669354</td>\n",
       "      <td>0.669354</td>\n",
       "      <td>-1.374707</td>\n",
       "      <td>1.374707</td>\n",
       "    </tr>\n",
       "    <tr>\n",
       "      <th>...</th>\n",
       "      <td>...</td>\n",
       "      <td>...</td>\n",
       "      <td>...</td>\n",
       "      <td>...</td>\n",
       "      <td>...</td>\n",
       "      <td>...</td>\n",
       "      <td>...</td>\n",
       "      <td>...</td>\n",
       "      <td>...</td>\n",
       "      <td>...</td>\n",
       "      <td>...</td>\n",
       "      <td>...</td>\n",
       "      <td>...</td>\n",
       "      <td>...</td>\n",
       "      <td>...</td>\n",
       "      <td>...</td>\n",
       "      <td>...</td>\n",
       "      <td>...</td>\n",
       "      <td>...</td>\n",
       "      <td>...</td>\n",
       "    </tr>\n",
       "    <tr>\n",
       "      <th>11378</th>\n",
       "      <td>1.129199</td>\n",
       "      <td>1.454964</td>\n",
       "      <td>-0.585158</td>\n",
       "      <td>1.038595</td>\n",
       "      <td>-0.287279</td>\n",
       "      <td>0.589279</td>\n",
       "      <td>-1.330843</td>\n",
       "      <td>-0.465459</td>\n",
       "      <td>-0.987888</td>\n",
       "      <td>1.268770</td>\n",
       "      <td>0.756139</td>\n",
       "      <td>0.384378</td>\n",
       "      <td>-0.223179</td>\n",
       "      <td>-0.226183</td>\n",
       "      <td>0.724042</td>\n",
       "      <td>-0.724042</td>\n",
       "      <td>1.493978</td>\n",
       "      <td>-1.493978</td>\n",
       "      <td>0.727428</td>\n",
       "      <td>-0.727428</td>\n",
       "    </tr>\n",
       "    <tr>\n",
       "      <th>11379</th>\n",
       "      <td>-0.280278</td>\n",
       "      <td>-0.634451</td>\n",
       "      <td>-0.585158</td>\n",
       "      <td>-0.864577</td>\n",
       "      <td>-0.295375</td>\n",
       "      <td>1.126344</td>\n",
       "      <td>-1.330843</td>\n",
       "      <td>-0.465459</td>\n",
       "      <td>-0.332053</td>\n",
       "      <td>-0.541125</td>\n",
       "      <td>0.279702</td>\n",
       "      <td>-0.720529</td>\n",
       "      <td>-0.223179</td>\n",
       "      <td>-0.226183</td>\n",
       "      <td>0.724042</td>\n",
       "      <td>-0.724042</td>\n",
       "      <td>1.493978</td>\n",
       "      <td>-1.493978</td>\n",
       "      <td>0.727428</td>\n",
       "      <td>-0.727428</td>\n",
       "    </tr>\n",
       "    <tr>\n",
       "      <th>11380</th>\n",
       "      <td>0.860865</td>\n",
       "      <td>-1.261276</td>\n",
       "      <td>0.986910</td>\n",
       "      <td>1.884093</td>\n",
       "      <td>-0.283385</td>\n",
       "      <td>-0.484851</td>\n",
       "      <td>1.061606</td>\n",
       "      <td>-0.465459</td>\n",
       "      <td>-0.176645</td>\n",
       "      <td>1.522391</td>\n",
       "      <td>0.517921</td>\n",
       "      <td>-1.098786</td>\n",
       "      <td>-0.223179</td>\n",
       "      <td>-0.226183</td>\n",
       "      <td>-1.381135</td>\n",
       "      <td>1.381135</td>\n",
       "      <td>-0.669354</td>\n",
       "      <td>0.669354</td>\n",
       "      <td>-1.374707</td>\n",
       "      <td>1.374707</td>\n",
       "    </tr>\n",
       "    <tr>\n",
       "      <th>11381</th>\n",
       "      <td>-0.013386</td>\n",
       "      <td>-0.321039</td>\n",
       "      <td>-0.585158</td>\n",
       "      <td>-0.805041</td>\n",
       "      <td>-0.151294</td>\n",
       "      <td>0.052214</td>\n",
       "      <td>-1.330843</td>\n",
       "      <td>-0.465459</td>\n",
       "      <td>-1.347304</td>\n",
       "      <td>-0.694964</td>\n",
       "      <td>-1.183637</td>\n",
       "      <td>-0.999245</td>\n",
       "      <td>-0.223179</td>\n",
       "      <td>-0.226183</td>\n",
       "      <td>0.724042</td>\n",
       "      <td>-0.724042</td>\n",
       "      <td>-0.669354</td>\n",
       "      <td>0.669354</td>\n",
       "      <td>0.727428</td>\n",
       "      <td>-0.727428</td>\n",
       "    </tr>\n",
       "    <tr>\n",
       "      <th>11382</th>\n",
       "      <td>0.126552</td>\n",
       "      <td>0.619198</td>\n",
       "      <td>-0.585158</td>\n",
       "      <td>-0.407424</td>\n",
       "      <td>-0.221772</td>\n",
       "      <td>0.052214</td>\n",
       "      <td>-0.134619</td>\n",
       "      <td>-0.465459</td>\n",
       "      <td>-0.054806</td>\n",
       "      <td>-0.738662</td>\n",
       "      <td>0.415827</td>\n",
       "      <td>1.449468</td>\n",
       "      <td>-0.223179</td>\n",
       "      <td>-0.226183</td>\n",
       "      <td>0.724042</td>\n",
       "      <td>-0.724042</td>\n",
       "      <td>-0.669354</td>\n",
       "      <td>0.669354</td>\n",
       "      <td>0.727428</td>\n",
       "      <td>-0.727428</td>\n",
       "    </tr>\n",
       "  </tbody>\n",
       "</table>\n",
       "<p>11383 rows × 20 columns</p>\n",
       "</div>"
      ],
      "text/plain": [
       "           name       age  no_of_children  net_yearly_income  \\\n",
       "0      1.110445  1.350494       -0.585158           0.582093   \n",
       "1      1.010901  0.932610        0.986910           1.273263   \n",
       "2      1.450912  1.141552        0.986910          -0.529271   \n",
       "3     -0.297590 -0.947864        0.986910          -0.382129   \n",
       "4      0.233309  1.350494       -0.585158           0.593309   \n",
       "...         ...       ...             ...                ...   \n",
       "11378  1.129199  1.454964       -0.585158           1.038595   \n",
       "11379 -0.280278 -0.634451       -0.585158          -0.864577   \n",
       "11380  0.860865 -1.261276        0.986910           1.884093   \n",
       "11381 -0.013386 -0.321039       -0.585158          -0.805041   \n",
       "11382  0.126552  0.619198       -0.585158          -0.407424   \n",
       "\n",
       "       no_of_days_employed  occupation_type  total_family_members  \\\n",
       "0                -0.308319         1.126344             -0.134619   \n",
       "1                -0.304834         1.126344              1.061606   \n",
       "2                -0.306146         1.126344              1.061606   \n",
       "3                -0.313392        -0.484851             -0.134619   \n",
       "4                -0.295375        -0.484851             -0.134619   \n",
       "...                    ...              ...                   ...   \n",
       "11378            -0.287279         0.589279             -1.330843   \n",
       "11379            -0.295375         1.126344             -1.330843   \n",
       "11380            -0.283385        -0.484851              1.061606   \n",
       "11381            -0.151294         0.052214             -1.330843   \n",
       "11382            -0.221772         0.052214             -0.134619   \n",
       "\n",
       "       migrant_worker  yearly_debt_payments  credit_limit  \\\n",
       "0           -0.465459             -1.240572     -0.715013   \n",
       "1           -0.465459              1.778152      1.504715   \n",
       "2           -0.465459             -0.702758     -0.784864   \n",
       "3            2.148415             -0.151845     -0.576262   \n",
       "4            2.148415              1.731100      1.871702   \n",
       "...               ...                   ...           ...   \n",
       "11378       -0.465459             -0.987888      1.268770   \n",
       "11379       -0.465459             -0.332053     -0.541125   \n",
       "11380       -0.465459             -0.176645      1.522391   \n",
       "11381       -0.465459             -1.347304     -0.694964   \n",
       "11382       -0.465459             -0.054806     -0.738662   \n",
       "\n",
       "       credit_limit_used(%)  credit_score  prev_defaults  \\\n",
       "0                 -1.626042     -0.053603      -0.223179   \n",
       "1                  0.620014      0.215158      -0.223179   \n",
       "2                  0.654045     -2.552087       7.463509   \n",
       "3                 -1.455886      0.304745      -0.223179   \n",
       "4                  1.028388     -1.705987       3.620165   \n",
       "...                     ...           ...            ...   \n",
       "11378              0.756139      0.384378      -0.223179   \n",
       "11379              0.279702     -0.720529      -0.223179   \n",
       "11380              0.517921     -1.098786      -0.223179   \n",
       "11381             -1.183637     -0.999245      -0.223179   \n",
       "11382              0.415827      1.449468      -0.223179   \n",
       "\n",
       "       default_in_last_6months  owns_car_No  owns_car_Yes  owns_house_No  \\\n",
       "0                    -0.226183    -1.381135      1.381135       1.493978   \n",
       "1                    -0.226183     0.724042     -0.724042       1.493978   \n",
       "2                    -0.226183     0.724042     -0.724042       1.493978   \n",
       "3                    -0.226183     0.724042     -0.724042       1.493978   \n",
       "4                     4.421191     0.724042     -0.724042      -0.669354   \n",
       "...                        ...          ...           ...            ...   \n",
       "11378                -0.226183     0.724042     -0.724042       1.493978   \n",
       "11379                -0.226183     0.724042     -0.724042       1.493978   \n",
       "11380                -0.226183    -1.381135      1.381135      -0.669354   \n",
       "11381                -0.226183     0.724042     -0.724042      -0.669354   \n",
       "11382                -0.226183     0.724042     -0.724042      -0.669354   \n",
       "\n",
       "       owns_house_Yes  gender_female  gender_male  \n",
       "0           -1.493978       0.727428    -0.727428  \n",
       "1           -1.493978       0.727428    -0.727428  \n",
       "2           -1.493978       0.727428    -0.727428  \n",
       "3           -1.493978       0.727428    -0.727428  \n",
       "4            0.669354      -1.374707     1.374707  \n",
       "...               ...            ...          ...  \n",
       "11378       -1.493978       0.727428    -0.727428  \n",
       "11379       -1.493978       0.727428    -0.727428  \n",
       "11380        0.669354      -1.374707     1.374707  \n",
       "11381        0.669354       0.727428    -0.727428  \n",
       "11382        0.669354       0.727428    -0.727428  \n",
       "\n",
       "[11383 rows x 20 columns]"
      ]
     },
     "execution_count": 56,
     "metadata": {},
     "output_type": "execute_result"
    }
   ],
   "source": [
    "test_X=test_data.drop(['customer_id'],axis=1)\n",
    "scale=preprocessing.StandardScaler()\n",
    "for column in test_X.columns:\n",
    "    get_column = test_X[column]\n",
    "    reshaped_vals = get_column.values.reshape(-1, 1)\n",
    "    test_X[column] = scale.fit_transform(reshaped_vals)\n",
    "test_X"
   ]
  },
  {
   "cell_type": "markdown",
   "id": "f4bd7938",
   "metadata": {},
   "source": [
    "### Normalization"
   ]
  },
  {
   "cell_type": "code",
   "execution_count": 57,
   "id": "2b83bf09",
   "metadata": {},
   "outputs": [
    {
     "data": {
      "text/html": [
       "<div>\n",
       "<style scoped>\n",
       "    .dataframe tbody tr th:only-of-type {\n",
       "        vertical-align: middle;\n",
       "    }\n",
       "\n",
       "    .dataframe tbody tr th {\n",
       "        vertical-align: top;\n",
       "    }\n",
       "\n",
       "    .dataframe thead th {\n",
       "        text-align: right;\n",
       "    }\n",
       "</style>\n",
       "<table border=\"1\" class=\"dataframe\">\n",
       "  <thead>\n",
       "    <tr style=\"text-align: right;\">\n",
       "      <th></th>\n",
       "      <th>name</th>\n",
       "      <th>age</th>\n",
       "      <th>no_of_children</th>\n",
       "      <th>net_yearly_income</th>\n",
       "      <th>no_of_days_employed</th>\n",
       "      <th>occupation_type</th>\n",
       "      <th>total_family_members</th>\n",
       "      <th>migrant_worker</th>\n",
       "      <th>yearly_debt_payments</th>\n",
       "      <th>credit_limit</th>\n",
       "      <th>credit_limit_used(%)</th>\n",
       "      <th>credit_score</th>\n",
       "      <th>prev_defaults</th>\n",
       "      <th>default_in_last_6months</th>\n",
       "      <th>owns_car_No</th>\n",
       "      <th>owns_car_Yes</th>\n",
       "      <th>owns_house_No</th>\n",
       "      <th>owns_house_Yes</th>\n",
       "      <th>gender_female</th>\n",
       "      <th>gender_male</th>\n",
       "    </tr>\n",
       "  </thead>\n",
       "  <tbody>\n",
       "    <tr>\n",
       "      <th>0</th>\n",
       "      <td>0.810415</td>\n",
       "      <td>0.90625</td>\n",
       "      <td>0.0</td>\n",
       "      <td>0.585217</td>\n",
       "      <td>0.001634</td>\n",
       "      <td>0.944444</td>\n",
       "      <td>0.333333</td>\n",
       "      <td>0.0</td>\n",
       "      <td>0.034149</td>\n",
       "      <td>0.166205</td>\n",
       "      <td>0.040404</td>\n",
       "      <td>0.621381</td>\n",
       "      <td>0.0</td>\n",
       "      <td>0.0</td>\n",
       "      <td>0.0</td>\n",
       "      <td>1.0</td>\n",
       "      <td>1.0</td>\n",
       "      <td>0.0</td>\n",
       "      <td>1.0</td>\n",
       "      <td>0.0</td>\n",
       "    </tr>\n",
       "    <tr>\n",
       "      <th>1</th>\n",
       "      <td>0.782343</td>\n",
       "      <td>0.78125</td>\n",
       "      <td>0.5</td>\n",
       "      <td>0.805406</td>\n",
       "      <td>0.002565</td>\n",
       "      <td>0.944444</td>\n",
       "      <td>0.666667</td>\n",
       "      <td>0.0</td>\n",
       "      <td>1.000000</td>\n",
       "      <td>0.881706</td>\n",
       "      <td>0.707071</td>\n",
       "      <td>0.681514</td>\n",
       "      <td>0.0</td>\n",
       "      <td>0.0</td>\n",
       "      <td>1.0</td>\n",
       "      <td>0.0</td>\n",
       "      <td>1.0</td>\n",
       "      <td>0.0</td>\n",
       "      <td>1.0</td>\n",
       "      <td>0.0</td>\n",
       "    </tr>\n",
       "    <tr>\n",
       "      <th>2</th>\n",
       "      <td>0.906428</td>\n",
       "      <td>0.84375</td>\n",
       "      <td>0.5</td>\n",
       "      <td>0.231165</td>\n",
       "      <td>0.002215</td>\n",
       "      <td>0.944444</td>\n",
       "      <td>0.666667</td>\n",
       "      <td>0.0</td>\n",
       "      <td>0.206225</td>\n",
       "      <td>0.143689</td>\n",
       "      <td>0.717172</td>\n",
       "      <td>0.062361</td>\n",
       "      <td>1.0</td>\n",
       "      <td>0.0</td>\n",
       "      <td>1.0</td>\n",
       "      <td>0.0</td>\n",
       "      <td>1.0</td>\n",
       "      <td>0.0</td>\n",
       "      <td>1.0</td>\n",
       "      <td>0.0</td>\n",
       "    </tr>\n",
       "    <tr>\n",
       "      <th>3</th>\n",
       "      <td>0.413344</td>\n",
       "      <td>0.21875</td>\n",
       "      <td>0.5</td>\n",
       "      <td>0.278041</td>\n",
       "      <td>0.000277</td>\n",
       "      <td>0.444444</td>\n",
       "      <td>0.333333</td>\n",
       "      <td>1.0</td>\n",
       "      <td>0.382491</td>\n",
       "      <td>0.210929</td>\n",
       "      <td>0.090909</td>\n",
       "      <td>0.701559</td>\n",
       "      <td>0.0</td>\n",
       "      <td>0.0</td>\n",
       "      <td>1.0</td>\n",
       "      <td>0.0</td>\n",
       "      <td>1.0</td>\n",
       "      <td>0.0</td>\n",
       "      <td>1.0</td>\n",
       "      <td>0.0</td>\n",
       "    </tr>\n",
       "    <tr>\n",
       "      <th>4</th>\n",
       "      <td>0.563059</td>\n",
       "      <td>0.90625</td>\n",
       "      <td>0.0</td>\n",
       "      <td>0.588790</td>\n",
       "      <td>0.005095</td>\n",
       "      <td>0.444444</td>\n",
       "      <td>0.333333</td>\n",
       "      <td>1.0</td>\n",
       "      <td>0.984946</td>\n",
       "      <td>1.000000</td>\n",
       "      <td>0.828283</td>\n",
       "      <td>0.251670</td>\n",
       "      <td>0.5</td>\n",
       "      <td>1.0</td>\n",
       "      <td>1.0</td>\n",
       "      <td>0.0</td>\n",
       "      <td>0.0</td>\n",
       "      <td>1.0</td>\n",
       "      <td>0.0</td>\n",
       "      <td>1.0</td>\n",
       "    </tr>\n",
       "    <tr>\n",
       "      <th>...</th>\n",
       "      <td>...</td>\n",
       "      <td>...</td>\n",
       "      <td>...</td>\n",
       "      <td>...</td>\n",
       "      <td>...</td>\n",
       "      <td>...</td>\n",
       "      <td>...</td>\n",
       "      <td>...</td>\n",
       "      <td>...</td>\n",
       "      <td>...</td>\n",
       "      <td>...</td>\n",
       "      <td>...</td>\n",
       "      <td>...</td>\n",
       "      <td>...</td>\n",
       "      <td>...</td>\n",
       "      <td>...</td>\n",
       "      <td>...</td>\n",
       "      <td>...</td>\n",
       "      <td>...</td>\n",
       "      <td>...</td>\n",
       "    </tr>\n",
       "    <tr>\n",
       "      <th>11378</th>\n",
       "      <td>0.815704</td>\n",
       "      <td>0.93750</td>\n",
       "      <td>0.0</td>\n",
       "      <td>0.730646</td>\n",
       "      <td>0.007261</td>\n",
       "      <td>0.777778</td>\n",
       "      <td>0.000000</td>\n",
       "      <td>0.0</td>\n",
       "      <td>0.114997</td>\n",
       "      <td>0.805652</td>\n",
       "      <td>0.747475</td>\n",
       "      <td>0.719376</td>\n",
       "      <td>0.0</td>\n",
       "      <td>0.0</td>\n",
       "      <td>1.0</td>\n",
       "      <td>0.0</td>\n",
       "      <td>1.0</td>\n",
       "      <td>0.0</td>\n",
       "      <td>1.0</td>\n",
       "      <td>0.0</td>\n",
       "    </tr>\n",
       "    <tr>\n",
       "      <th>11379</th>\n",
       "      <td>0.418226</td>\n",
       "      <td>0.31250</td>\n",
       "      <td>0.0</td>\n",
       "      <td>0.124345</td>\n",
       "      <td>0.005095</td>\n",
       "      <td>0.944444</td>\n",
       "      <td>0.000000</td>\n",
       "      <td>0.0</td>\n",
       "      <td>0.324833</td>\n",
       "      <td>0.222255</td>\n",
       "      <td>0.606061</td>\n",
       "      <td>0.472160</td>\n",
       "      <td>0.0</td>\n",
       "      <td>0.0</td>\n",
       "      <td>1.0</td>\n",
       "      <td>0.0</td>\n",
       "      <td>1.0</td>\n",
       "      <td>0.0</td>\n",
       "      <td>1.0</td>\n",
       "      <td>0.0</td>\n",
       "    </tr>\n",
       "    <tr>\n",
       "      <th>11380</th>\n",
       "      <td>0.740033</td>\n",
       "      <td>0.12500</td>\n",
       "      <td>0.5</td>\n",
       "      <td>1.000000</td>\n",
       "      <td>0.008302</td>\n",
       "      <td>0.444444</td>\n",
       "      <td>0.666667</td>\n",
       "      <td>0.0</td>\n",
       "      <td>0.374556</td>\n",
       "      <td>0.887404</td>\n",
       "      <td>0.676768</td>\n",
       "      <td>0.387528</td>\n",
       "      <td>0.0</td>\n",
       "      <td>0.0</td>\n",
       "      <td>0.0</td>\n",
       "      <td>1.0</td>\n",
       "      <td>0.0</td>\n",
       "      <td>1.0</td>\n",
       "      <td>0.0</td>\n",
       "      <td>1.0</td>\n",
       "    </tr>\n",
       "    <tr>\n",
       "      <th>11381</th>\n",
       "      <td>0.493491</td>\n",
       "      <td>0.40625</td>\n",
       "      <td>0.0</td>\n",
       "      <td>0.143312</td>\n",
       "      <td>0.043630</td>\n",
       "      <td>0.611111</td>\n",
       "      <td>0.000000</td>\n",
       "      <td>0.0</td>\n",
       "      <td>0.000000</td>\n",
       "      <td>0.172667</td>\n",
       "      <td>0.171717</td>\n",
       "      <td>0.409800</td>\n",
       "      <td>0.0</td>\n",
       "      <td>0.0</td>\n",
       "      <td>1.0</td>\n",
       "      <td>0.0</td>\n",
       "      <td>0.0</td>\n",
       "      <td>1.0</td>\n",
       "      <td>1.0</td>\n",
       "      <td>0.0</td>\n",
       "    </tr>\n",
       "    <tr>\n",
       "      <th>11382</th>\n",
       "      <td>0.532954</td>\n",
       "      <td>0.68750</td>\n",
       "      <td>0.0</td>\n",
       "      <td>0.269982</td>\n",
       "      <td>0.024781</td>\n",
       "      <td>0.611111</td>\n",
       "      <td>0.333333</td>\n",
       "      <td>0.0</td>\n",
       "      <td>0.413539</td>\n",
       "      <td>0.158582</td>\n",
       "      <td>0.646465</td>\n",
       "      <td>0.957684</td>\n",
       "      <td>0.0</td>\n",
       "      <td>0.0</td>\n",
       "      <td>1.0</td>\n",
       "      <td>0.0</td>\n",
       "      <td>0.0</td>\n",
       "      <td>1.0</td>\n",
       "      <td>1.0</td>\n",
       "      <td>0.0</td>\n",
       "    </tr>\n",
       "  </tbody>\n",
       "</table>\n",
       "<p>11383 rows × 20 columns</p>\n",
       "</div>"
      ],
      "text/plain": [
       "           name      age  no_of_children  net_yearly_income  \\\n",
       "0      0.810415  0.90625             0.0           0.585217   \n",
       "1      0.782343  0.78125             0.5           0.805406   \n",
       "2      0.906428  0.84375             0.5           0.231165   \n",
       "3      0.413344  0.21875             0.5           0.278041   \n",
       "4      0.563059  0.90625             0.0           0.588790   \n",
       "...         ...      ...             ...                ...   \n",
       "11378  0.815704  0.93750             0.0           0.730646   \n",
       "11379  0.418226  0.31250             0.0           0.124345   \n",
       "11380  0.740033  0.12500             0.5           1.000000   \n",
       "11381  0.493491  0.40625             0.0           0.143312   \n",
       "11382  0.532954  0.68750             0.0           0.269982   \n",
       "\n",
       "       no_of_days_employed  occupation_type  total_family_members  \\\n",
       "0                 0.001634         0.944444              0.333333   \n",
       "1                 0.002565         0.944444              0.666667   \n",
       "2                 0.002215         0.944444              0.666667   \n",
       "3                 0.000277         0.444444              0.333333   \n",
       "4                 0.005095         0.444444              0.333333   \n",
       "...                    ...              ...                   ...   \n",
       "11378             0.007261         0.777778              0.000000   \n",
       "11379             0.005095         0.944444              0.000000   \n",
       "11380             0.008302         0.444444              0.666667   \n",
       "11381             0.043630         0.611111              0.000000   \n",
       "11382             0.024781         0.611111              0.333333   \n",
       "\n",
       "       migrant_worker  yearly_debt_payments  credit_limit  \\\n",
       "0                 0.0              0.034149      0.166205   \n",
       "1                 0.0              1.000000      0.881706   \n",
       "2                 0.0              0.206225      0.143689   \n",
       "3                 1.0              0.382491      0.210929   \n",
       "4                 1.0              0.984946      1.000000   \n",
       "...               ...                   ...           ...   \n",
       "11378             0.0              0.114997      0.805652   \n",
       "11379             0.0              0.324833      0.222255   \n",
       "11380             0.0              0.374556      0.887404   \n",
       "11381             0.0              0.000000      0.172667   \n",
       "11382             0.0              0.413539      0.158582   \n",
       "\n",
       "       credit_limit_used(%)  credit_score  prev_defaults  \\\n",
       "0                  0.040404      0.621381            0.0   \n",
       "1                  0.707071      0.681514            0.0   \n",
       "2                  0.717172      0.062361            1.0   \n",
       "3                  0.090909      0.701559            0.0   \n",
       "4                  0.828283      0.251670            0.5   \n",
       "...                     ...           ...            ...   \n",
       "11378              0.747475      0.719376            0.0   \n",
       "11379              0.606061      0.472160            0.0   \n",
       "11380              0.676768      0.387528            0.0   \n",
       "11381              0.171717      0.409800            0.0   \n",
       "11382              0.646465      0.957684            0.0   \n",
       "\n",
       "       default_in_last_6months  owns_car_No  owns_car_Yes  owns_house_No  \\\n",
       "0                          0.0          0.0           1.0            1.0   \n",
       "1                          0.0          1.0           0.0            1.0   \n",
       "2                          0.0          1.0           0.0            1.0   \n",
       "3                          0.0          1.0           0.0            1.0   \n",
       "4                          1.0          1.0           0.0            0.0   \n",
       "...                        ...          ...           ...            ...   \n",
       "11378                      0.0          1.0           0.0            1.0   \n",
       "11379                      0.0          1.0           0.0            1.0   \n",
       "11380                      0.0          0.0           1.0            0.0   \n",
       "11381                      0.0          1.0           0.0            0.0   \n",
       "11382                      0.0          1.0           0.0            0.0   \n",
       "\n",
       "       owns_house_Yes  gender_female  gender_male  \n",
       "0                 0.0            1.0          0.0  \n",
       "1                 0.0            1.0          0.0  \n",
       "2                 0.0            1.0          0.0  \n",
       "3                 0.0            1.0          0.0  \n",
       "4                 1.0            0.0          1.0  \n",
       "...               ...            ...          ...  \n",
       "11378             0.0            1.0          0.0  \n",
       "11379             0.0            1.0          0.0  \n",
       "11380             1.0            0.0          1.0  \n",
       "11381             1.0            1.0          0.0  \n",
       "11382             1.0            1.0          0.0  \n",
       "\n",
       "[11383 rows x 20 columns]"
      ]
     },
     "execution_count": 57,
     "metadata": {},
     "output_type": "execute_result"
    }
   ],
   "source": [
    "minmaxscale=preprocessing.MinMaxScaler()\n",
    "for column in test_X.columns:\n",
    "    get_column = test_X[column]\n",
    "    reshaped_vals = get_column.values.reshape(-1, 1)\n",
    "    test_X[column] = minmaxscale.fit_transform(reshaped_vals)\n",
    "    \n",
    "test_X"
   ]
  },
  {
   "cell_type": "markdown",
   "id": "21df7465",
   "metadata": {},
   "source": [
    "### Modeling"
   ]
  },
  {
   "cell_type": "code",
   "execution_count": 58,
   "id": "bfb897e1",
   "metadata": {},
   "outputs": [],
   "source": [
    "from sklearn.model_selection import train_test_split\n",
    "x_train,x_test,y_train,y_test=train_test_split(X,y,random_state=42,test_size=.25)"
   ]
  },
  {
   "cell_type": "code",
   "execution_count": 61,
   "id": "4469777b",
   "metadata": {},
   "outputs": [
    {
     "name": "stdout",
     "output_type": "stream",
     "text": [
      "ACCURACY of the model:  0.9731154454401687\n",
      "F - score of the model:  0.9135441732724805\n"
     ]
    },
    {
     "data": {
      "text/plain": [
       "array([[10262,   156],\n",
       "       [  150,   814]], dtype=int64)"
      ]
     },
     "execution_count": 61,
     "metadata": {},
     "output_type": "execute_result"
    }
   ],
   "source": [
    "#DecisionTree Classifier\n",
    "from sklearn.tree import DecisionTreeClassifier\n",
    "from sklearn.metrics import accuracy_score,f1_score,confusion_matrix\n",
    "\n",
    "dt_model=DecisionTreeClassifier(random_state=0)\n",
    "dt_model.fit(x_train,y_train)\n",
    "y_pred=dt_model.predict(x_test)\n",
    "print(\"ACCURACY of the model: \", accuracy_score(y_test, y_pred))\n",
    "print(\"F - score of the model: \", f1_score(y_test, y_pred,average='macro'))\n",
    "confusion_matrix(y_test,y_pred)"
   ]
  },
  {
   "cell_type": "code",
   "execution_count": 60,
   "id": "a8fab6a1",
   "metadata": {},
   "outputs": [
    {
     "name": "stdout",
     "output_type": "stream",
     "text": [
      "ACCURACY of the model:  0.980319803198032\n",
      "F - score of the model:  0.9296366616360774\n"
     ]
    },
    {
     "data": {
      "text/plain": [
       "array([[10409,     9],\n",
       "       [  215,   749]], dtype=int64)"
      ]
     },
     "execution_count": 60,
     "metadata": {},
     "output_type": "execute_result"
    }
   ],
   "source": [
    "#RandomForestClassifier\n",
    "from sklearn.ensemble import RandomForestClassifier\n",
    "clf = RandomForestClassifier(n_estimators = 100,random_state=0,criterion='entropy') \n",
    "clf.fit(x_train, y_train)\n",
    " \n",
    "# performing predictions on the dataset\n",
    "y_pred = clf.predict(x_test)\n",
    "print(\"ACCURACY of the model: \", accuracy_score(y_test, y_pred))\n",
    "print(\"F - score of the model: \", f1_score(y_test, y_pred,average='macro'))\n",
    "confusion_matrix(y_test,y_pred)"
   ]
  },
  {
   "cell_type": "code",
   "execution_count": 63,
   "id": "ee8f1bfc",
   "metadata": {},
   "outputs": [],
   "source": [
    "prediction=clf.predict(test_X)"
   ]
  },
  {
   "cell_type": "code",
   "execution_count": 64,
   "id": "2105ce02",
   "metadata": {},
   "outputs": [
    {
     "data": {
      "text/plain": [
       "array([0, 0, 1, ..., 0, 0, 0], dtype=int64)"
      ]
     },
     "execution_count": 64,
     "metadata": {},
     "output_type": "execute_result"
    }
   ],
   "source": [
    "prediction"
   ]
  },
  {
   "cell_type": "code",
   "execution_count": 69,
   "id": "b1d2ad6b",
   "metadata": {},
   "outputs": [],
   "source": [
    "submission=pd.DataFrame(prediction, columns=['credit_card_default'],index=test_data.customer_id)\n",
    "submission[:11383].to_csv('predicted.csv')"
   ]
  }
 ],
 "metadata": {
  "kernelspec": {
   "display_name": "Python 3 (ipykernel)",
   "language": "python",
   "name": "python3"
  },
  "language_info": {
   "codemirror_mode": {
    "name": "ipython",
    "version": 3
   },
   "file_extension": ".py",
   "mimetype": "text/x-python",
   "name": "python",
   "nbconvert_exporter": "python",
   "pygments_lexer": "ipython3",
   "version": "3.9.7"
  }
 },
 "nbformat": 4,
 "nbformat_minor": 5
}
